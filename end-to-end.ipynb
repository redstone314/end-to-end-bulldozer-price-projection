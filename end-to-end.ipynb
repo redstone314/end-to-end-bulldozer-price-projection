{
 "cells": [
  {
   "cell_type": "markdown",
   "id": "39e2bfde",
   "metadata": {},
   "source": [
    "### 1. Problem defition\n",
    "How well can we predict the future sale price of a bulldozer, given its characteristics and previous examples of how much similar bulldozers have been sold for?\n",
    "\n",
    "### 2. Data\n",
    "The data is downloaded from the Kaggle Bluebook for Bulldozers competition: https://www.kaggle.com/c/bluebook-for-bulldozers/data\n",
    "\n",
    "There are 3 main datasets:\n",
    "\n",
    "Train.csv is the training set, which contains data through the end of 2011.\n",
    "Valid.csv is the validation set, which contains data from January 1, 2012 - April 30, 2012 You make predictions on this set throughout the majority of the competition. Your score on this set is used to create the public leaderboard.\n",
    "Test.csv is the test set, which won't be released until the last week of the competition. It contains data from May 1, 2012 - November 2012. Your score on the test set determines your final rank for the competition.\n",
    "\n",
    "### 3. Evaluation\n",
    "The evaluation metric for this competition is the RMSLE (root mean squared log error) between the actual and predicted auction prices.\n",
    "\n",
    "For more on the evaluation of this project check: https://www.kaggle.com/c/bluebook-for-bulldozers/overview/evaluation\n",
    "\n",
    "Note: The goal for most regression evaluation metrics is to minimize the error. For example, our goal for this project will be to build a machine learning model which minimises RMSLE.\n",
    "\n",
    "### 4. Features\n",
    "Kaggle provides a data dictionary detailing all of the features of the dataset. You can view this data dictionary on Google Sheets: https://docs.google.com/spreadsheets/d/18ly-bLR8sbDJLITkWG7ozKm8l3RyieQ2Fpgix-beSYI/edit?usp=sharing"
   ]
  },
  {
   "cell_type": "code",
   "execution_count": 160,
   "id": "cc729187",
   "metadata": {},
   "outputs": [],
   "source": [
    "import numpy as np\n",
    "import pandas as pd\n",
    "import matplotlib.pyplot as plt\n",
    "import sklearn"
   ]
  },
  {
   "cell_type": "code",
   "execution_count": 161,
   "id": "8b26c16e",
   "metadata": {},
   "outputs": [],
   "source": [
    "df = pd.read_csv(\"data/bluebook-for-bulldozers/Train.csv\", low_memory=False, parse_dates=[\"saledate\"])"
   ]
  },
  {
   "cell_type": "code",
   "execution_count": 162,
   "id": "cbacc6fd",
   "metadata": {},
   "outputs": [
    {
     "name": "stdout",
     "output_type": "stream",
     "text": [
      "<class 'pandas.core.frame.DataFrame'>\n",
      "RangeIndex: 401125 entries, 0 to 401124\n",
      "Data columns (total 53 columns):\n",
      " #   Column                    Non-Null Count   Dtype         \n",
      "---  ------                    --------------   -----         \n",
      " 0   SalesID                   401125 non-null  int64         \n",
      " 1   SalePrice                 401125 non-null  int64         \n",
      " 2   MachineID                 401125 non-null  int64         \n",
      " 3   ModelID                   401125 non-null  int64         \n",
      " 4   datasource                401125 non-null  int64         \n",
      " 5   auctioneerID              380989 non-null  float64       \n",
      " 6   YearMade                  401125 non-null  int64         \n",
      " 7   MachineHoursCurrentMeter  142765 non-null  float64       \n",
      " 8   UsageBand                 69639 non-null   object        \n",
      " 9   saledate                  401125 non-null  datetime64[ns]\n",
      " 10  fiModelDesc               401125 non-null  object        \n",
      " 11  fiBaseModel               401125 non-null  object        \n",
      " 12  fiSecondaryDesc           263934 non-null  object        \n",
      " 13  fiModelSeries             56908 non-null   object        \n",
      " 14  fiModelDescriptor         71919 non-null   object        \n",
      " 15  ProductSize               190350 non-null  object        \n",
      " 16  fiProductClassDesc        401125 non-null  object        \n",
      " 17  state                     401125 non-null  object        \n",
      " 18  ProductGroup              401125 non-null  object        \n",
      " 19  ProductGroupDesc          401125 non-null  object        \n",
      " 20  Drive_System              104361 non-null  object        \n",
      " 21  Enclosure                 400800 non-null  object        \n",
      " 22  Forks                     192077 non-null  object        \n",
      " 23  Pad_Type                  79134 non-null   object        \n",
      " 24  Ride_Control              148606 non-null  object        \n",
      " 25  Stick                     79134 non-null   object        \n",
      " 26  Transmission              183230 non-null  object        \n",
      " 27  Turbocharged              79134 non-null   object        \n",
      " 28  Blade_Extension           25219 non-null   object        \n",
      " 29  Blade_Width               25219 non-null   object        \n",
      " 30  Enclosure_Type            25219 non-null   object        \n",
      " 31  Engine_Horsepower         25219 non-null   object        \n",
      " 32  Hydraulics                320570 non-null  object        \n",
      " 33  Pushblock                 25219 non-null   object        \n",
      " 34  Ripper                    104137 non-null  object        \n",
      " 35  Scarifier                 25230 non-null   object        \n",
      " 36  Tip_Control               25219 non-null   object        \n",
      " 37  Tire_Size                 94718 non-null   object        \n",
      " 38  Coupler                   213952 non-null  object        \n",
      " 39  Coupler_System            43458 non-null   object        \n",
      " 40  Grouser_Tracks            43362 non-null   object        \n",
      " 41  Hydraulics_Flow           43362 non-null   object        \n",
      " 42  Track_Type                99153 non-null   object        \n",
      " 43  Undercarriage_Pad_Width   99872 non-null   object        \n",
      " 44  Stick_Length              99218 non-null   object        \n",
      " 45  Thumb                     99288 non-null   object        \n",
      " 46  Pattern_Changer           99218 non-null   object        \n",
      " 47  Grouser_Type              99153 non-null   object        \n",
      " 48  Backhoe_Mounting          78672 non-null   object        \n",
      " 49  Blade_Type                79833 non-null   object        \n",
      " 50  Travel_Controls           79834 non-null   object        \n",
      " 51  Differential_Type         69411 non-null   object        \n",
      " 52  Steering_Controls         69369 non-null   object        \n",
      "dtypes: datetime64[ns](1), float64(2), int64(6), object(44)\n",
      "memory usage: 162.2+ MB\n"
     ]
    }
   ],
   "source": [
    "df.info()"
   ]
  },
  {
   "cell_type": "code",
   "execution_count": 163,
   "id": "5dd2a9d8",
   "metadata": {},
   "outputs": [
    {
     "data": {
      "text/plain": [
       "SalesID                          0\n",
       "SalePrice                        0\n",
       "MachineID                        0\n",
       "ModelID                          0\n",
       "datasource                       0\n",
       "auctioneerID                 20136\n",
       "YearMade                         0\n",
       "MachineHoursCurrentMeter    258360\n",
       "UsageBand                   331486\n",
       "saledate                         0\n",
       "fiModelDesc                      0\n",
       "fiBaseModel                      0\n",
       "fiSecondaryDesc             137191\n",
       "fiModelSeries               344217\n",
       "fiModelDescriptor           329206\n",
       "ProductSize                 210775\n",
       "fiProductClassDesc               0\n",
       "state                            0\n",
       "ProductGroup                     0\n",
       "ProductGroupDesc                 0\n",
       "Drive_System                296764\n",
       "Enclosure                      325\n",
       "Forks                       209048\n",
       "Pad_Type                    321991\n",
       "Ride_Control                252519\n",
       "Stick                       321991\n",
       "Transmission                217895\n",
       "Turbocharged                321991\n",
       "Blade_Extension             375906\n",
       "Blade_Width                 375906\n",
       "Enclosure_Type              375906\n",
       "Engine_Horsepower           375906\n",
       "Hydraulics                   80555\n",
       "Pushblock                   375906\n",
       "Ripper                      296988\n",
       "Scarifier                   375895\n",
       "Tip_Control                 375906\n",
       "Tire_Size                   306407\n",
       "Coupler                     187173\n",
       "Coupler_System              357667\n",
       "Grouser_Tracks              357763\n",
       "Hydraulics_Flow             357763\n",
       "Track_Type                  301972\n",
       "Undercarriage_Pad_Width     301253\n",
       "Stick_Length                301907\n",
       "Thumb                       301837\n",
       "Pattern_Changer             301907\n",
       "Grouser_Type                301972\n",
       "Backhoe_Mounting            322453\n",
       "Blade_Type                  321292\n",
       "Travel_Controls             321291\n",
       "Differential_Type           331714\n",
       "Steering_Controls           331756\n",
       "dtype: int64"
      ]
     },
     "execution_count": 163,
     "metadata": {},
     "output_type": "execute_result"
    }
   ],
   "source": [
    "df.isna().sum()"
   ]
  },
  {
   "cell_type": "code",
   "execution_count": 164,
   "id": "0f935ec2",
   "metadata": {},
   "outputs": [
    {
     "data": {
      "text/plain": [
       "<matplotlib.collections.PathCollection at 0x21194dc9e10>"
      ]
     },
     "execution_count": 164,
     "metadata": {},
     "output_type": "execute_result"
    },
    {
     "data": {
      "image/png": "[encoded data removed]",
      "text/plain": [
       "<Figure size 640x480 with 1 Axes>"
      ]
     },
     "metadata": {},
     "output_type": "display_data"
    }
   ],
   "source": [
    "fig, ax = plt.subplots()\n",
    "ax.scatter(df[\"saledate\"][:1000], df[\"SalePrice\"][:1000])"
   ]
  },
  {
   "cell_type": "code",
   "execution_count": 165,
   "id": "27e519b3",
   "metadata": {},
   "outputs": [
    {
     "data": {
      "text/plain": [
       "<Axes: ylabel='Frequency'>"
      ]
     },
     "execution_count": 165,
     "metadata": {},
     "output_type": "execute_result"
    },
    {
     "data": {
      "image/png": "[encoded data removed]",
      "text/plain": [
       "<Figure size 640x480 with 1 Axes>"
      ]
     },
     "metadata": {},
     "output_type": "display_data"
    }
   ],
   "source": [
    "df[\"SalePrice\"].plot.hist()"
   ]
  },
  {
   "cell_type": "code",
   "execution_count": 166,
   "id": "1acdf7ee",
   "metadata": {},
   "outputs": [],
   "source": [
    "## Sort DataFrame by Saledate\n",
    "df.sort_values([\"saledate\"], inplace=True, ascending=True)"
   ]
  },
  {
   "cell_type": "code",
   "execution_count": 167,
   "id": "db15a5b2",
   "metadata": {},
   "outputs": [
    {
     "data": {
      "text/plain": [
       "205615   1989-01-17\n",
       "92803    1989-01-31\n",
       "98346    1989-01-31\n",
       "169297   1989-01-31\n",
       "274835   1989-01-31\n",
       "75378    1989-01-31\n",
       "81383    1989-01-31\n",
       "134080   1989-01-31\n",
       "55455    1989-01-31\n",
       "55454    1989-01-31\n",
       "114830   1989-01-31\n",
       "54653    1989-01-31\n",
       "238373   1989-01-31\n",
       "98567    1989-01-31\n",
       "113454   1989-01-31\n",
       "92780    1989-01-31\n",
       "113390   1989-01-31\n",
       "127000   1989-01-31\n",
       "92833    1989-01-31\n",
       "32138    1989-01-31\n",
       "Name: saledate, dtype: datetime64[ns]"
      ]
     },
     "execution_count": 167,
     "metadata": {},
     "output_type": "execute_result"
    }
   ],
   "source": [
    "df.saledate.head(20)"
   ]
  },
  {
   "cell_type": "code",
   "execution_count": 168,
   "id": "7672063c",
   "metadata": {},
   "outputs": [],
   "source": [
    "df_tmp = df.copy()"
   ]
  },
  {
   "cell_type": "code",
   "execution_count": 169,
   "id": "84d7d9e7",
   "metadata": {},
   "outputs": [],
   "source": [
    "df_tmp[\"saleYear\"] = df_tmp.saledate.dt.year\n",
    "df_tmp[\"saleMonth\"] = df_tmp.saledate.dt.month\n",
    "df_tmp[\"saleDay\"] = df_tmp.saledate.dt.day\n",
    "df_tmp[\"saleDayofWeek\"] = df_tmp.saledate.dt.day_of_week\n",
    "df_tmp[\"saleDayofYear\"] = df_tmp.saledate.dt.day_of_year"
   ]
  },
  {
   "cell_type": "code",
   "execution_count": 170,
   "id": "f01039b1",
   "metadata": {},
   "outputs": [
    {
     "data": {
      "text/plain": [
       "205615    1989\n",
       "92803     1989\n",
       "98346     1989\n",
       "169297    1989\n",
       "274835    1989\n",
       "75378     1989\n",
       "81383     1989\n",
       "134080    1989\n",
       "55455     1989\n",
       "55454     1989\n",
       "Name: saleYear, dtype: int64"
      ]
     },
     "execution_count": 170,
     "metadata": {},
     "output_type": "execute_result"
    }
   ],
   "source": [
    "df_tmp.saleYear.head(10)"
   ]
  },
  {
   "cell_type": "code",
   "execution_count": 171,
   "id": "cb9c5aa8",
   "metadata": {},
   "outputs": [
    {
     "name": "stdout",
     "output_type": "stream",
     "text": [
      "<class 'pandas.core.frame.DataFrame'>\n",
      "Int64Index: 401125 entries, 205615 to 400217\n",
      "Data columns (total 58 columns):\n",
      " #   Column                    Non-Null Count   Dtype         \n",
      "---  ------                    --------------   -----         \n",
      " 0   SalesID                   401125 non-null  int64         \n",
      " 1   SalePrice                 401125 non-null  int64         \n",
      " 2   MachineID                 401125 non-null  int64         \n",
      " 3   ModelID                   401125 non-null  int64         \n",
      " 4   datasource                401125 non-null  int64         \n",
      " 5   auctioneerID              380989 non-null  float64       \n",
      " 6   YearMade                  401125 non-null  int64         \n",
      " 7   MachineHoursCurrentMeter  142765 non-null  float64       \n",
      " 8   UsageBand                 69639 non-null   object        \n",
      " 9   saledate                  401125 non-null  datetime64[ns]\n",
      " 10  fiModelDesc               401125 non-null  object        \n",
      " 11  fiBaseModel               401125 non-null  object        \n",
      " 12  fiSecondaryDesc           263934 non-null  object        \n",
      " 13  fiModelSeries             56908 non-null   object        \n",
      " 14  fiModelDescriptor         71919 non-null   object        \n",
      " 15  ProductSize               190350 non-null  object        \n",
      " 16  fiProductClassDesc        401125 non-null  object        \n",
      " 17  state                     401125 non-null  object        \n",
      " 18  ProductGroup              401125 non-null  object        \n",
      " 19  ProductGroupDesc          401125 non-null  object        \n",
      " 20  Drive_System              104361 non-null  object        \n",
      " 21  Enclosure                 400800 non-null  object        \n",
      " 22  Forks                     192077 non-null  object        \n",
      " 23  Pad_Type                  79134 non-null   object        \n",
      " 24  Ride_Control              148606 non-null  object        \n",
      " 25  Stick                     79134 non-null   object        \n",
      " 26  Transmission              183230 non-null  object        \n",
      " 27  Turbocharged              79134 non-null   object        \n",
      " 28  Blade_Extension           25219 non-null   object        \n",
      " 29  Blade_Width               25219 non-null   object        \n",
      " 30  Enclosure_Type            25219 non-null   object        \n",
      " 31  Engine_Horsepower         25219 non-null   object        \n",
      " 32  Hydraulics                320570 non-null  object        \n",
      " 33  Pushblock                 25219 non-null   object        \n",
      " 34  Ripper                    104137 non-null  object        \n",
      " 35  Scarifier                 25230 non-null   object        \n",
      " 36  Tip_Control               25219 non-null   object        \n",
      " 37  Tire_Size                 94718 non-null   object        \n",
      " 38  Coupler                   213952 non-null  object        \n",
      " 39  Coupler_System            43458 non-null   object        \n",
      " 40  Grouser_Tracks            43362 non-null   object        \n",
      " 41  Hydraulics_Flow           43362 non-null   object        \n",
      " 42  Track_Type                99153 non-null   object        \n",
      " 43  Undercarriage_Pad_Width   99872 non-null   object        \n",
      " 44  Stick_Length              99218 non-null   object        \n",
      " 45  Thumb                     99288 non-null   object        \n",
      " 46  Pattern_Changer           99218 non-null   object        \n",
      " 47  Grouser_Type              99153 non-null   object        \n",
      " 48  Backhoe_Mounting          78672 non-null   object        \n",
      " 49  Blade_Type                79833 non-null   object        \n",
      " 50  Travel_Controls           79834 non-null   object        \n",
      " 51  Differential_Type         69411 non-null   object        \n",
      " 52  Steering_Controls         69369 non-null   object        \n",
      " 53  saleYear                  401125 non-null  int64         \n",
      " 54  saleMonth                 401125 non-null  int64         \n",
      " 55  saleDay                   401125 non-null  int64         \n",
      " 56  saleDayofWeek             401125 non-null  int64         \n",
      " 57  saleDayofYear             401125 non-null  int64         \n",
      "dtypes: datetime64[ns](1), float64(2), int64(11), object(44)\n",
      "memory usage: 180.6+ MB\n"
     ]
    }
   ],
   "source": [
    "df_tmp.info()"
   ]
  },
  {
   "cell_type": "code",
   "execution_count": 172,
   "id": "92ff056e",
   "metadata": {},
   "outputs": [],
   "source": [
    "df_tmp.drop(\"saledate\", axis=1, inplace=True)"
   ]
  },
  {
   "cell_type": "markdown",
   "id": "fc24a7c4",
   "metadata": {},
   "source": [
    "## Convert strings to categories\n",
    "One way to help turn all of our data into numbers is to convert the columns with the string datatype into a category datatype.\n",
    "\n",
    "To do this we can use the pandas types API which allows us to interact and manipulate the types of data."
   ]
  },
  {
   "cell_type": "code",
   "execution_count": 173,
   "id": "15d10bf9",
   "metadata": {},
   "outputs": [
    {
     "data": {
      "text/html": [
       "<div>\n",
       "<style scoped>\n",
       "    .dataframe tbody tr th:only-of-type {\n",
       "        vertical-align: middle;\n",
       "    }\n",
       "\n",
       "    .dataframe tbody tr th {\n",
       "        vertical-align: top;\n",
       "    }\n",
       "\n",
       "    .dataframe thead th {\n",
       "        text-align: right;\n",
       "    }\n",
       "</style>\n",
       "<table border=\"1\" class=\"dataframe\">\n",
       "  <thead>\n",
       "    <tr style=\"text-align: right;\">\n",
       "      <th></th>\n",
       "      <th>205615</th>\n",
       "      <th>92803</th>\n",
       "      <th>98346</th>\n",
       "      <th>169297</th>\n",
       "      <th>274835</th>\n",
       "    </tr>\n",
       "  </thead>\n",
       "  <tbody>\n",
       "    <tr>\n",
       "      <th>SalesID</th>\n",
       "      <td>1646770</td>\n",
       "      <td>1404019</td>\n",
       "      <td>1415646</td>\n",
       "      <td>1596358</td>\n",
       "      <td>1821514</td>\n",
       "    </tr>\n",
       "    <tr>\n",
       "      <th>SalePrice</th>\n",
       "      <td>9500</td>\n",
       "      <td>24000</td>\n",
       "      <td>35000</td>\n",
       "      <td>19000</td>\n",
       "      <td>14000</td>\n",
       "    </tr>\n",
       "    <tr>\n",
       "      <th>MachineID</th>\n",
       "      <td>1126363</td>\n",
       "      <td>1169900</td>\n",
       "      <td>1262088</td>\n",
       "      <td>1433229</td>\n",
       "      <td>1194089</td>\n",
       "    </tr>\n",
       "    <tr>\n",
       "      <th>ModelID</th>\n",
       "      <td>8434</td>\n",
       "      <td>7110</td>\n",
       "      <td>3357</td>\n",
       "      <td>8247</td>\n",
       "      <td>10150</td>\n",
       "    </tr>\n",
       "    <tr>\n",
       "      <th>datasource</th>\n",
       "      <td>132</td>\n",
       "      <td>132</td>\n",
       "      <td>132</td>\n",
       "      <td>132</td>\n",
       "      <td>132</td>\n",
       "    </tr>\n",
       "    <tr>\n",
       "      <th>auctioneerID</th>\n",
       "      <td>18.0</td>\n",
       "      <td>99.0</td>\n",
       "      <td>99.0</td>\n",
       "      <td>99.0</td>\n",
       "      <td>99.0</td>\n",
       "    </tr>\n",
       "    <tr>\n",
       "      <th>YearMade</th>\n",
       "      <td>1974</td>\n",
       "      <td>1986</td>\n",
       "      <td>1975</td>\n",
       "      <td>1978</td>\n",
       "      <td>1980</td>\n",
       "    </tr>\n",
       "    <tr>\n",
       "      <th>MachineHoursCurrentMeter</th>\n",
       "      <td>NaN</td>\n",
       "      <td>NaN</td>\n",
       "      <td>NaN</td>\n",
       "      <td>NaN</td>\n",
       "      <td>NaN</td>\n",
       "    </tr>\n",
       "    <tr>\n",
       "      <th>UsageBand</th>\n",
       "      <td>NaN</td>\n",
       "      <td>NaN</td>\n",
       "      <td>NaN</td>\n",
       "      <td>NaN</td>\n",
       "      <td>NaN</td>\n",
       "    </tr>\n",
       "    <tr>\n",
       "      <th>fiModelDesc</th>\n",
       "      <td>TD20</td>\n",
       "      <td>416</td>\n",
       "      <td>12G</td>\n",
       "      <td>644</td>\n",
       "      <td>A66</td>\n",
       "    </tr>\n",
       "    <tr>\n",
       "      <th>fiBaseModel</th>\n",
       "      <td>TD20</td>\n",
       "      <td>416</td>\n",
       "      <td>12</td>\n",
       "      <td>644</td>\n",
       "      <td>A66</td>\n",
       "    </tr>\n",
       "    <tr>\n",
       "      <th>fiSecondaryDesc</th>\n",
       "      <td>NaN</td>\n",
       "      <td>NaN</td>\n",
       "      <td>G</td>\n",
       "      <td>NaN</td>\n",
       "      <td>NaN</td>\n",
       "    </tr>\n",
       "    <tr>\n",
       "      <th>fiModelSeries</th>\n",
       "      <td>NaN</td>\n",
       "      <td>NaN</td>\n",
       "      <td>NaN</td>\n",
       "      <td>NaN</td>\n",
       "      <td>NaN</td>\n",
       "    </tr>\n",
       "    <tr>\n",
       "      <th>fiModelDescriptor</th>\n",
       "      <td>NaN</td>\n",
       "      <td>NaN</td>\n",
       "      <td>NaN</td>\n",
       "      <td>NaN</td>\n",
       "      <td>NaN</td>\n",
       "    </tr>\n",
       "    <tr>\n",
       "      <th>ProductSize</th>\n",
       "      <td>Medium</td>\n",
       "      <td>NaN</td>\n",
       "      <td>NaN</td>\n",
       "      <td>Medium</td>\n",
       "      <td>NaN</td>\n",
       "    </tr>\n",
       "    <tr>\n",
       "      <th>fiProductClassDesc</th>\n",
       "      <td>Track Type Tractor, Dozer - 105.0 to 130.0 Hor...</td>\n",
       "      <td>Backhoe Loader - 14.0 to 15.0 Ft Standard Digg...</td>\n",
       "      <td>Motorgrader - 130.0 to 145.0 Horsepower</td>\n",
       "      <td>Wheel Loader - 175.0 to 200.0 Horsepower</td>\n",
       "      <td>Wheel Loader - 120.0 to 135.0 Horsepower</td>\n",
       "    </tr>\n",
       "    <tr>\n",
       "      <th>state</th>\n",
       "      <td>Texas</td>\n",
       "      <td>Florida</td>\n",
       "      <td>Florida</td>\n",
       "      <td>Florida</td>\n",
       "      <td>Florida</td>\n",
       "    </tr>\n",
       "    <tr>\n",
       "      <th>ProductGroup</th>\n",
       "      <td>TTT</td>\n",
       "      <td>BL</td>\n",
       "      <td>MG</td>\n",
       "      <td>WL</td>\n",
       "      <td>WL</td>\n",
       "    </tr>\n",
       "    <tr>\n",
       "      <th>ProductGroupDesc</th>\n",
       "      <td>Track Type Tractors</td>\n",
       "      <td>Backhoe Loaders</td>\n",
       "      <td>Motor Graders</td>\n",
       "      <td>Wheel Loader</td>\n",
       "      <td>Wheel Loader</td>\n",
       "    </tr>\n",
       "    <tr>\n",
       "      <th>Drive_System</th>\n",
       "      <td>NaN</td>\n",
       "      <td>Two Wheel Drive</td>\n",
       "      <td>No</td>\n",
       "      <td>NaN</td>\n",
       "      <td>NaN</td>\n",
       "    </tr>\n",
       "    <tr>\n",
       "      <th>Enclosure</th>\n",
       "      <td>OROPS</td>\n",
       "      <td>EROPS</td>\n",
       "      <td>OROPS</td>\n",
       "      <td>OROPS</td>\n",
       "      <td>OROPS</td>\n",
       "    </tr>\n",
       "    <tr>\n",
       "      <th>Forks</th>\n",
       "      <td>NaN</td>\n",
       "      <td>None or Unspecified</td>\n",
       "      <td>NaN</td>\n",
       "      <td>None or Unspecified</td>\n",
       "      <td>None or Unspecified</td>\n",
       "    </tr>\n",
       "    <tr>\n",
       "      <th>Pad_Type</th>\n",
       "      <td>NaN</td>\n",
       "      <td>None or Unspecified</td>\n",
       "      <td>NaN</td>\n",
       "      <td>NaN</td>\n",
       "      <td>NaN</td>\n",
       "    </tr>\n",
       "    <tr>\n",
       "      <th>Ride_Control</th>\n",
       "      <td>NaN</td>\n",
       "      <td>No</td>\n",
       "      <td>NaN</td>\n",
       "      <td>None or Unspecified</td>\n",
       "      <td>None or Unspecified</td>\n",
       "    </tr>\n",
       "    <tr>\n",
       "      <th>Stick</th>\n",
       "      <td>NaN</td>\n",
       "      <td>Standard</td>\n",
       "      <td>NaN</td>\n",
       "      <td>NaN</td>\n",
       "      <td>NaN</td>\n",
       "    </tr>\n",
       "    <tr>\n",
       "      <th>Transmission</th>\n",
       "      <td>Direct Drive</td>\n",
       "      <td>Standard</td>\n",
       "      <td>None or Unspecified</td>\n",
       "      <td>NaN</td>\n",
       "      <td>NaN</td>\n",
       "    </tr>\n",
       "    <tr>\n",
       "      <th>Turbocharged</th>\n",
       "      <td>NaN</td>\n",
       "      <td>None or Unspecified</td>\n",
       "      <td>NaN</td>\n",
       "      <td>NaN</td>\n",
       "      <td>NaN</td>\n",
       "    </tr>\n",
       "    <tr>\n",
       "      <th>Blade_Extension</th>\n",
       "      <td>NaN</td>\n",
       "      <td>NaN</td>\n",
       "      <td>None or Unspecified</td>\n",
       "      <td>NaN</td>\n",
       "      <td>NaN</td>\n",
       "    </tr>\n",
       "    <tr>\n",
       "      <th>Blade_Width</th>\n",
       "      <td>NaN</td>\n",
       "      <td>NaN</td>\n",
       "      <td>12'</td>\n",
       "      <td>NaN</td>\n",
       "      <td>NaN</td>\n",
       "    </tr>\n",
       "    <tr>\n",
       "      <th>Enclosure_Type</th>\n",
       "      <td>NaN</td>\n",
       "      <td>NaN</td>\n",
       "      <td>None or Unspecified</td>\n",
       "      <td>NaN</td>\n",
       "      <td>NaN</td>\n",
       "    </tr>\n",
       "    <tr>\n",
       "      <th>Engine_Horsepower</th>\n",
       "      <td>NaN</td>\n",
       "      <td>NaN</td>\n",
       "      <td>No</td>\n",
       "      <td>NaN</td>\n",
       "      <td>NaN</td>\n",
       "    </tr>\n",
       "    <tr>\n",
       "      <th>Hydraulics</th>\n",
       "      <td>2 Valve</td>\n",
       "      <td>NaN</td>\n",
       "      <td>Base + 1 Function</td>\n",
       "      <td>2 Valve</td>\n",
       "      <td>2 Valve</td>\n",
       "    </tr>\n",
       "    <tr>\n",
       "      <th>Pushblock</th>\n",
       "      <td>NaN</td>\n",
       "      <td>NaN</td>\n",
       "      <td>None or Unspecified</td>\n",
       "      <td>NaN</td>\n",
       "      <td>NaN</td>\n",
       "    </tr>\n",
       "    <tr>\n",
       "      <th>Ripper</th>\n",
       "      <td>None or Unspecified</td>\n",
       "      <td>NaN</td>\n",
       "      <td>None or Unspecified</td>\n",
       "      <td>NaN</td>\n",
       "      <td>NaN</td>\n",
       "    </tr>\n",
       "    <tr>\n",
       "      <th>Scarifier</th>\n",
       "      <td>NaN</td>\n",
       "      <td>NaN</td>\n",
       "      <td>Yes</td>\n",
       "      <td>NaN</td>\n",
       "      <td>NaN</td>\n",
       "    </tr>\n",
       "    <tr>\n",
       "      <th>Tip_Control</th>\n",
       "      <td>NaN</td>\n",
       "      <td>NaN</td>\n",
       "      <td>Sideshift &amp; Tip</td>\n",
       "      <td>NaN</td>\n",
       "      <td>NaN</td>\n",
       "    </tr>\n",
       "    <tr>\n",
       "      <th>Tire_Size</th>\n",
       "      <td>NaN</td>\n",
       "      <td>NaN</td>\n",
       "      <td>14\"</td>\n",
       "      <td>None or Unspecified</td>\n",
       "      <td>None or Unspecified</td>\n",
       "    </tr>\n",
       "    <tr>\n",
       "      <th>Coupler</th>\n",
       "      <td>NaN</td>\n",
       "      <td>NaN</td>\n",
       "      <td>NaN</td>\n",
       "      <td>None or Unspecified</td>\n",
       "      <td>None or Unspecified</td>\n",
       "    </tr>\n",
       "    <tr>\n",
       "      <th>Coupler_System</th>\n",
       "      <td>NaN</td>\n",
       "      <td>NaN</td>\n",
       "      <td>NaN</td>\n",
       "      <td>NaN</td>\n",
       "      <td>NaN</td>\n",
       "    </tr>\n",
       "    <tr>\n",
       "      <th>Grouser_Tracks</th>\n",
       "      <td>NaN</td>\n",
       "      <td>NaN</td>\n",
       "      <td>NaN</td>\n",
       "      <td>NaN</td>\n",
       "      <td>NaN</td>\n",
       "    </tr>\n",
       "    <tr>\n",
       "      <th>Hydraulics_Flow</th>\n",
       "      <td>NaN</td>\n",
       "      <td>NaN</td>\n",
       "      <td>NaN</td>\n",
       "      <td>NaN</td>\n",
       "      <td>NaN</td>\n",
       "    </tr>\n",
       "    <tr>\n",
       "      <th>Track_Type</th>\n",
       "      <td>NaN</td>\n",
       "      <td>NaN</td>\n",
       "      <td>NaN</td>\n",
       "      <td>NaN</td>\n",
       "      <td>NaN</td>\n",
       "    </tr>\n",
       "    <tr>\n",
       "      <th>Undercarriage_Pad_Width</th>\n",
       "      <td>NaN</td>\n",
       "      <td>NaN</td>\n",
       "      <td>NaN</td>\n",
       "      <td>NaN</td>\n",
       "      <td>NaN</td>\n",
       "    </tr>\n",
       "    <tr>\n",
       "      <th>Stick_Length</th>\n",
       "      <td>NaN</td>\n",
       "      <td>NaN</td>\n",
       "      <td>NaN</td>\n",
       "      <td>NaN</td>\n",
       "      <td>NaN</td>\n",
       "    </tr>\n",
       "    <tr>\n",
       "      <th>Thumb</th>\n",
       "      <td>NaN</td>\n",
       "      <td>NaN</td>\n",
       "      <td>NaN</td>\n",
       "      <td>NaN</td>\n",
       "      <td>NaN</td>\n",
       "    </tr>\n",
       "    <tr>\n",
       "      <th>Pattern_Changer</th>\n",
       "      <td>NaN</td>\n",
       "      <td>NaN</td>\n",
       "      <td>NaN</td>\n",
       "      <td>NaN</td>\n",
       "      <td>NaN</td>\n",
       "    </tr>\n",
       "    <tr>\n",
       "      <th>Grouser_Type</th>\n",
       "      <td>NaN</td>\n",
       "      <td>NaN</td>\n",
       "      <td>NaN</td>\n",
       "      <td>NaN</td>\n",
       "      <td>NaN</td>\n",
       "    </tr>\n",
       "    <tr>\n",
       "      <th>Backhoe_Mounting</th>\n",
       "      <td>None or Unspecified</td>\n",
       "      <td>NaN</td>\n",
       "      <td>NaN</td>\n",
       "      <td>NaN</td>\n",
       "      <td>NaN</td>\n",
       "    </tr>\n",
       "    <tr>\n",
       "      <th>Blade_Type</th>\n",
       "      <td>Straight</td>\n",
       "      <td>NaN</td>\n",
       "      <td>NaN</td>\n",
       "      <td>NaN</td>\n",
       "      <td>NaN</td>\n",
       "    </tr>\n",
       "    <tr>\n",
       "      <th>Travel_Controls</th>\n",
       "      <td>None or Unspecified</td>\n",
       "      <td>NaN</td>\n",
       "      <td>NaN</td>\n",
       "      <td>NaN</td>\n",
       "      <td>NaN</td>\n",
       "    </tr>\n",
       "    <tr>\n",
       "      <th>Differential_Type</th>\n",
       "      <td>NaN</td>\n",
       "      <td>NaN</td>\n",
       "      <td>NaN</td>\n",
       "      <td>Standard</td>\n",
       "      <td>Standard</td>\n",
       "    </tr>\n",
       "    <tr>\n",
       "      <th>Steering_Controls</th>\n",
       "      <td>NaN</td>\n",
       "      <td>NaN</td>\n",
       "      <td>NaN</td>\n",
       "      <td>Conventional</td>\n",
       "      <td>Conventional</td>\n",
       "    </tr>\n",
       "    <tr>\n",
       "      <th>saleYear</th>\n",
       "      <td>1989</td>\n",
       "      <td>1989</td>\n",
       "      <td>1989</td>\n",
       "      <td>1989</td>\n",
       "      <td>1989</td>\n",
       "    </tr>\n",
       "    <tr>\n",
       "      <th>saleMonth</th>\n",
       "      <td>1</td>\n",
       "      <td>1</td>\n",
       "      <td>1</td>\n",
       "      <td>1</td>\n",
       "      <td>1</td>\n",
       "    </tr>\n",
       "    <tr>\n",
       "      <th>saleDay</th>\n",
       "      <td>17</td>\n",
       "      <td>31</td>\n",
       "      <td>31</td>\n",
       "      <td>31</td>\n",
       "      <td>31</td>\n",
       "    </tr>\n",
       "    <tr>\n",
       "      <th>saleDayofWeek</th>\n",
       "      <td>1</td>\n",
       "      <td>1</td>\n",
       "      <td>1</td>\n",
       "      <td>1</td>\n",
       "      <td>1</td>\n",
       "    </tr>\n",
       "    <tr>\n",
       "      <th>saleDayofYear</th>\n",
       "      <td>17</td>\n",
       "      <td>31</td>\n",
       "      <td>31</td>\n",
       "      <td>31</td>\n",
       "      <td>31</td>\n",
       "    </tr>\n",
       "  </tbody>\n",
       "</table>\n",
       "</div>"
      ],
      "text/plain": [
       "                                                                     205615  \\\n",
       "SalesID                                                             1646770   \n",
       "SalePrice                                                              9500   \n",
       "MachineID                                                           1126363   \n",
       "ModelID                                                                8434   \n",
       "datasource                                                              132   \n",
       "auctioneerID                                                           18.0   \n",
       "YearMade                                                               1974   \n",
       "MachineHoursCurrentMeter                                                NaN   \n",
       "UsageBand                                                               NaN   \n",
       "fiModelDesc                                                            TD20   \n",
       "fiBaseModel                                                            TD20   \n",
       "fiSecondaryDesc                                                         NaN   \n",
       "fiModelSeries                                                           NaN   \n",
       "fiModelDescriptor                                                       NaN   \n",
       "ProductSize                                                          Medium   \n",
       "fiProductClassDesc        Track Type Tractor, Dozer - 105.0 to 130.0 Hor...   \n",
       "state                                                                 Texas   \n",
       "ProductGroup                                                            TTT   \n",
       "ProductGroupDesc                                        Track Type Tractors   \n",
       "Drive_System                                                            NaN   \n",
       "Enclosure                                                             OROPS   \n",
       "Forks                                                                   NaN   \n",
       "Pad_Type                                                                NaN   \n",
       "Ride_Control                                                            NaN   \n",
       "Stick                                                                   NaN   \n",
       "Transmission                                                   Direct Drive   \n",
       "Turbocharged                                                            NaN   \n",
       "Blade_Extension                                                         NaN   \n",
       "Blade_Width                                                             NaN   \n",
       "Enclosure_Type                                                          NaN   \n",
       "Engine_Horsepower                                                       NaN   \n",
       "Hydraulics                                                          2 Valve   \n",
       "Pushblock                                                               NaN   \n",
       "Ripper                                                  None or Unspecified   \n",
       "Scarifier                                                               NaN   \n",
       "Tip_Control                                                             NaN   \n",
       "Tire_Size                                                               NaN   \n",
       "Coupler                                                                 NaN   \n",
       "Coupler_System                                                          NaN   \n",
       "Grouser_Tracks                                                          NaN   \n",
       "Hydraulics_Flow                                                         NaN   \n",
       "Track_Type                                                              NaN   \n",
       "Undercarriage_Pad_Width                                                 NaN   \n",
       "Stick_Length                                                            NaN   \n",
       "Thumb                                                                   NaN   \n",
       "Pattern_Changer                                                         NaN   \n",
       "Grouser_Type                                                            NaN   \n",
       "Backhoe_Mounting                                        None or Unspecified   \n",
       "Blade_Type                                                         Straight   \n",
       "Travel_Controls                                         None or Unspecified   \n",
       "Differential_Type                                                       NaN   \n",
       "Steering_Controls                                                       NaN   \n",
       "saleYear                                                               1989   \n",
       "saleMonth                                                                 1   \n",
       "saleDay                                                                  17   \n",
       "saleDayofWeek                                                             1   \n",
       "saleDayofYear                                                            17   \n",
       "\n",
       "                                                                     92803   \\\n",
       "SalesID                                                             1404019   \n",
       "SalePrice                                                             24000   \n",
       "MachineID                                                           1169900   \n",
       "ModelID                                                                7110   \n",
       "datasource                                                              132   \n",
       "auctioneerID                                                           99.0   \n",
       "YearMade                                                               1986   \n",
       "MachineHoursCurrentMeter                                                NaN   \n",
       "UsageBand                                                               NaN   \n",
       "fiModelDesc                                                             416   \n",
       "fiBaseModel                                                             416   \n",
       "fiSecondaryDesc                                                         NaN   \n",
       "fiModelSeries                                                           NaN   \n",
       "fiModelDescriptor                                                       NaN   \n",
       "ProductSize                                                             NaN   \n",
       "fiProductClassDesc        Backhoe Loader - 14.0 to 15.0 Ft Standard Digg...   \n",
       "state                                                               Florida   \n",
       "ProductGroup                                                             BL   \n",
       "ProductGroupDesc                                            Backhoe Loaders   \n",
       "Drive_System                                                Two Wheel Drive   \n",
       "Enclosure                                                             EROPS   \n",
       "Forks                                                   None or Unspecified   \n",
       "Pad_Type                                                None or Unspecified   \n",
       "Ride_Control                                                             No   \n",
       "Stick                                                              Standard   \n",
       "Transmission                                                       Standard   \n",
       "Turbocharged                                            None or Unspecified   \n",
       "Blade_Extension                                                         NaN   \n",
       "Blade_Width                                                             NaN   \n",
       "Enclosure_Type                                                          NaN   \n",
       "Engine_Horsepower                                                       NaN   \n",
       "Hydraulics                                                              NaN   \n",
       "Pushblock                                                               NaN   \n",
       "Ripper                                                                  NaN   \n",
       "Scarifier                                                               NaN   \n",
       "Tip_Control                                                             NaN   \n",
       "Tire_Size                                                               NaN   \n",
       "Coupler                                                                 NaN   \n",
       "Coupler_System                                                          NaN   \n",
       "Grouser_Tracks                                                          NaN   \n",
       "Hydraulics_Flow                                                         NaN   \n",
       "Track_Type                                                              NaN   \n",
       "Undercarriage_Pad_Width                                                 NaN   \n",
       "Stick_Length                                                            NaN   \n",
       "Thumb                                                                   NaN   \n",
       "Pattern_Changer                                                         NaN   \n",
       "Grouser_Type                                                            NaN   \n",
       "Backhoe_Mounting                                                        NaN   \n",
       "Blade_Type                                                              NaN   \n",
       "Travel_Controls                                                         NaN   \n",
       "Differential_Type                                                       NaN   \n",
       "Steering_Controls                                                       NaN   \n",
       "saleYear                                                               1989   \n",
       "saleMonth                                                                 1   \n",
       "saleDay                                                                  31   \n",
       "saleDayofWeek                                                             1   \n",
       "saleDayofYear                                                            31   \n",
       "\n",
       "                                                           98346   \\\n",
       "SalesID                                                   1415646   \n",
       "SalePrice                                                   35000   \n",
       "MachineID                                                 1262088   \n",
       "ModelID                                                      3357   \n",
       "datasource                                                    132   \n",
       "auctioneerID                                                 99.0   \n",
       "YearMade                                                     1975   \n",
       "MachineHoursCurrentMeter                                      NaN   \n",
       "UsageBand                                                     NaN   \n",
       "fiModelDesc                                                   12G   \n",
       "fiBaseModel                                                    12   \n",
       "fiSecondaryDesc                                                 G   \n",
       "fiModelSeries                                                 NaN   \n",
       "fiModelDescriptor                                             NaN   \n",
       "ProductSize                                                   NaN   \n",
       "fiProductClassDesc        Motorgrader - 130.0 to 145.0 Horsepower   \n",
       "state                                                     Florida   \n",
       "ProductGroup                                                   MG   \n",
       "ProductGroupDesc                                    Motor Graders   \n",
       "Drive_System                                                   No   \n",
       "Enclosure                                                   OROPS   \n",
       "Forks                                                         NaN   \n",
       "Pad_Type                                                      NaN   \n",
       "Ride_Control                                                  NaN   \n",
       "Stick                                                         NaN   \n",
       "Transmission                                  None or Unspecified   \n",
       "Turbocharged                                                  NaN   \n",
       "Blade_Extension                               None or Unspecified   \n",
       "Blade_Width                                                   12'   \n",
       "Enclosure_Type                                None or Unspecified   \n",
       "Engine_Horsepower                                              No   \n",
       "Hydraulics                                      Base + 1 Function   \n",
       "Pushblock                                     None or Unspecified   \n",
       "Ripper                                        None or Unspecified   \n",
       "Scarifier                                                     Yes   \n",
       "Tip_Control                                       Sideshift & Tip   \n",
       "Tire_Size                                                     14\"   \n",
       "Coupler                                                       NaN   \n",
       "Coupler_System                                                NaN   \n",
       "Grouser_Tracks                                                NaN   \n",
       "Hydraulics_Flow                                               NaN   \n",
       "Track_Type                                                    NaN   \n",
       "Undercarriage_Pad_Width                                       NaN   \n",
       "Stick_Length                                                  NaN   \n",
       "Thumb                                                         NaN   \n",
       "Pattern_Changer                                               NaN   \n",
       "Grouser_Type                                                  NaN   \n",
       "Backhoe_Mounting                                              NaN   \n",
       "Blade_Type                                                    NaN   \n",
       "Travel_Controls                                               NaN   \n",
       "Differential_Type                                             NaN   \n",
       "Steering_Controls                                             NaN   \n",
       "saleYear                                                     1989   \n",
       "saleMonth                                                       1   \n",
       "saleDay                                                        31   \n",
       "saleDayofWeek                                                   1   \n",
       "saleDayofYear                                                  31   \n",
       "\n",
       "                                                            169297  \\\n",
       "SalesID                                                    1596358   \n",
       "SalePrice                                                    19000   \n",
       "MachineID                                                  1433229   \n",
       "ModelID                                                       8247   \n",
       "datasource                                                     132   \n",
       "auctioneerID                                                  99.0   \n",
       "YearMade                                                      1978   \n",
       "MachineHoursCurrentMeter                                       NaN   \n",
       "UsageBand                                                      NaN   \n",
       "fiModelDesc                                                    644   \n",
       "fiBaseModel                                                    644   \n",
       "fiSecondaryDesc                                                NaN   \n",
       "fiModelSeries                                                  NaN   \n",
       "fiModelDescriptor                                              NaN   \n",
       "ProductSize                                                 Medium   \n",
       "fiProductClassDesc        Wheel Loader - 175.0 to 200.0 Horsepower   \n",
       "state                                                      Florida   \n",
       "ProductGroup                                                    WL   \n",
       "ProductGroupDesc                                      Wheel Loader   \n",
       "Drive_System                                                   NaN   \n",
       "Enclosure                                                    OROPS   \n",
       "Forks                                          None or Unspecified   \n",
       "Pad_Type                                                       NaN   \n",
       "Ride_Control                                   None or Unspecified   \n",
       "Stick                                                          NaN   \n",
       "Transmission                                                   NaN   \n",
       "Turbocharged                                                   NaN   \n",
       "Blade_Extension                                                NaN   \n",
       "Blade_Width                                                    NaN   \n",
       "Enclosure_Type                                                 NaN   \n",
       "Engine_Horsepower                                              NaN   \n",
       "Hydraulics                                                 2 Valve   \n",
       "Pushblock                                                      NaN   \n",
       "Ripper                                                         NaN   \n",
       "Scarifier                                                      NaN   \n",
       "Tip_Control                                                    NaN   \n",
       "Tire_Size                                      None or Unspecified   \n",
       "Coupler                                        None or Unspecified   \n",
       "Coupler_System                                                 NaN   \n",
       "Grouser_Tracks                                                 NaN   \n",
       "Hydraulics_Flow                                                NaN   \n",
       "Track_Type                                                     NaN   \n",
       "Undercarriage_Pad_Width                                        NaN   \n",
       "Stick_Length                                                   NaN   \n",
       "Thumb                                                          NaN   \n",
       "Pattern_Changer                                                NaN   \n",
       "Grouser_Type                                                   NaN   \n",
       "Backhoe_Mounting                                               NaN   \n",
       "Blade_Type                                                     NaN   \n",
       "Travel_Controls                                                NaN   \n",
       "Differential_Type                                         Standard   \n",
       "Steering_Controls                                     Conventional   \n",
       "saleYear                                                      1989   \n",
       "saleMonth                                                        1   \n",
       "saleDay                                                         31   \n",
       "saleDayofWeek                                                    1   \n",
       "saleDayofYear                                                   31   \n",
       "\n",
       "                                                            274835  \n",
       "SalesID                                                    1821514  \n",
       "SalePrice                                                    14000  \n",
       "MachineID                                                  1194089  \n",
       "ModelID                                                      10150  \n",
       "datasource                                                     132  \n",
       "auctioneerID                                                  99.0  \n",
       "YearMade                                                      1980  \n",
       "MachineHoursCurrentMeter                                       NaN  \n",
       "UsageBand                                                      NaN  \n",
       "fiModelDesc                                                    A66  \n",
       "fiBaseModel                                                    A66  \n",
       "fiSecondaryDesc                                                NaN  \n",
       "fiModelSeries                                                  NaN  \n",
       "fiModelDescriptor                                              NaN  \n",
       "ProductSize                                                    NaN  \n",
       "fiProductClassDesc        Wheel Loader - 120.0 to 135.0 Horsepower  \n",
       "state                                                      Florida  \n",
       "ProductGroup                                                    WL  \n",
       "ProductGroupDesc                                      Wheel Loader  \n",
       "Drive_System                                                   NaN  \n",
       "Enclosure                                                    OROPS  \n",
       "Forks                                          None or Unspecified  \n",
       "Pad_Type                                                       NaN  \n",
       "Ride_Control                                   None or Unspecified  \n",
       "Stick                                                          NaN  \n",
       "Transmission                                                   NaN  \n",
       "Turbocharged                                                   NaN  \n",
       "Blade_Extension                                                NaN  \n",
       "Blade_Width                                                    NaN  \n",
       "Enclosure_Type                                                 NaN  \n",
       "Engine_Horsepower                                              NaN  \n",
       "Hydraulics                                                 2 Valve  \n",
       "Pushblock                                                      NaN  \n",
       "Ripper                                                         NaN  \n",
       "Scarifier                                                      NaN  \n",
       "Tip_Control                                                    NaN  \n",
       "Tire_Size                                      None or Unspecified  \n",
       "Coupler                                        None or Unspecified  \n",
       "Coupler_System                                                 NaN  \n",
       "Grouser_Tracks                                                 NaN  \n",
       "Hydraulics_Flow                                                NaN  \n",
       "Track_Type                                                     NaN  \n",
       "Undercarriage_Pad_Width                                        NaN  \n",
       "Stick_Length                                                   NaN  \n",
       "Thumb                                                          NaN  \n",
       "Pattern_Changer                                                NaN  \n",
       "Grouser_Type                                                   NaN  \n",
       "Backhoe_Mounting                                               NaN  \n",
       "Blade_Type                                                     NaN  \n",
       "Travel_Controls                                                NaN  \n",
       "Differential_Type                                         Standard  \n",
       "Steering_Controls                                     Conventional  \n",
       "saleYear                                                      1989  \n",
       "saleMonth                                                        1  \n",
       "saleDay                                                         31  \n",
       "saleDayofWeek                                                    1  \n",
       "saleDayofYear                                                   31  "
      ]
     },
     "execution_count": 173,
     "metadata": {},
     "output_type": "execute_result"
    }
   ],
   "source": [
    "df_tmp.head().T"
   ]
  },
  {
   "cell_type": "code",
   "execution_count": 174,
   "id": "3f8a1a4e",
   "metadata": {},
   "outputs": [
    {
     "data": {
      "text/plain": [
       "True"
      ]
     },
     "execution_count": 174,
     "metadata": {},
     "output_type": "execute_result"
    }
   ],
   "source": [
    "pd.api.types.is_string_dtype(df_tmp[\"UsageBand\"])"
   ]
  },
  {
   "cell_type": "code",
   "execution_count": 175,
   "id": "7e7009a8",
   "metadata": {},
   "outputs": [
    {
     "name": "stdout",
     "output_type": "stream",
     "text": [
      "UsageBand\n",
      "fiModelDesc\n",
      "fiBaseModel\n",
      "fiSecondaryDesc\n",
      "fiModelSeries\n",
      "fiModelDescriptor\n",
      "ProductSize\n",
      "fiProductClassDesc\n",
      "state\n",
      "ProductGroup\n",
      "ProductGroupDesc\n",
      "Drive_System\n",
      "Enclosure\n",
      "Forks\n",
      "Pad_Type\n",
      "Ride_Control\n",
      "Stick\n",
      "Transmission\n",
      "Turbocharged\n",
      "Blade_Extension\n",
      "Blade_Width\n",
      "Enclosure_Type\n",
      "Engine_Horsepower\n",
      "Hydraulics\n",
      "Pushblock\n",
      "Ripper\n",
      "Scarifier\n",
      "Tip_Control\n",
      "Tire_Size\n",
      "Coupler\n",
      "Coupler_System\n",
      "Grouser_Tracks\n",
      "Hydraulics_Flow\n",
      "Track_Type\n",
      "Undercarriage_Pad_Width\n",
      "Stick_Length\n",
      "Thumb\n",
      "Pattern_Changer\n",
      "Grouser_Type\n",
      "Backhoe_Mounting\n",
      "Blade_Type\n",
      "Travel_Controls\n",
      "Differential_Type\n",
      "Steering_Controls\n"
     ]
    }
   ],
   "source": [
    "# These columns contain strings\n",
    "for label, content in df_tmp.items():\n",
    "    if pd.api.types.is_string_dtype(content):\n",
    "        print(label)"
   ]
  },
  {
   "cell_type": "code",
   "execution_count": 176,
   "id": "e44bc9bd",
   "metadata": {},
   "outputs": [],
   "source": [
    "for label,content in df_tmp.items():\n",
    "    if pd.api.types.is_string_dtype(content):\n",
    "        df_tmp[label] = content.astype(\"category\").cat.as_ordered()"
   ]
  },
  {
   "cell_type": "code",
   "execution_count": 177,
   "id": "26588428",
   "metadata": {},
   "outputs": [
    {
     "data": {
      "text/plain": [
       "205615      Texas\n",
       "92803     Florida\n",
       "98346     Florida\n",
       "169297    Florida\n",
       "274835    Florida\n",
       "75378     Florida\n",
       "81383     Florida\n",
       "134080    Florida\n",
       "55455     Florida\n",
       "55454     Florida\n",
       "114830    Florida\n",
       "54653     Florida\n",
       "238373    Georgia\n",
       "98567     Florida\n",
       "113454    Florida\n",
       "92780     Florida\n",
       "113390    Florida\n",
       "127000    Florida\n",
       "92833     Florida\n",
       "32138     Florida\n",
       "Name: state, dtype: category\n",
       "Categories (53, object): ['Alabama' < 'Alaska' < 'Arizona' < 'Arkansas' ... 'Washington DC' < 'West Virginia' < 'Wisconsin' < 'Wyoming']"
      ]
     },
     "execution_count": 177,
     "metadata": {},
     "output_type": "execute_result"
    }
   ],
   "source": [
    "df_tmp.state.head(20)"
   ]
  },
  {
   "cell_type": "code",
   "execution_count": 178,
   "id": "a181649e",
   "metadata": {},
   "outputs": [
    {
     "data": {
      "text/plain": [
       "205615    43\n",
       "92803      8\n",
       "98346      8\n",
       "169297     8\n",
       "274835     8\n",
       "          ..\n",
       "393123    31\n",
       "397987    31\n",
       "392664    31\n",
       "400458    31\n",
       "400217    31\n",
       "Length: 401125, dtype: int8"
      ]
     },
     "execution_count": 178,
     "metadata": {},
     "output_type": "execute_result"
    }
   ],
   "source": [
    "df_tmp.state.cat.codes"
   ]
  },
  {
   "cell_type": "code",
   "execution_count": 179,
   "id": "5f72da5f",
   "metadata": {},
   "outputs": [
    {
     "data": {
      "text/plain": [
       "SalesID                          0\n",
       "SalePrice                        0\n",
       "MachineID                        0\n",
       "ModelID                          0\n",
       "datasource                       0\n",
       "auctioneerID                 20136\n",
       "YearMade                         0\n",
       "MachineHoursCurrentMeter    258360\n",
       "UsageBand                   331486\n",
       "fiModelDesc                      0\n",
       "fiBaseModel                      0\n",
       "fiSecondaryDesc             137191\n",
       "fiModelSeries               344217\n",
       "fiModelDescriptor           329206\n",
       "ProductSize                 210775\n",
       "fiProductClassDesc               0\n",
       "state                            0\n",
       "ProductGroup                     0\n",
       "ProductGroupDesc                 0\n",
       "Drive_System                296764\n",
       "Enclosure                      325\n",
       "Forks                       209048\n",
       "Pad_Type                    321991\n",
       "Ride_Control                252519\n",
       "Stick                       321991\n",
       "Transmission                217895\n",
       "Turbocharged                321991\n",
       "Blade_Extension             375906\n",
       "Blade_Width                 375906\n",
       "Enclosure_Type              375906\n",
       "Engine_Horsepower           375906\n",
       "Hydraulics                   80555\n",
       "Pushblock                   375906\n",
       "Ripper                      296988\n",
       "Scarifier                   375895\n",
       "Tip_Control                 375906\n",
       "Tire_Size                   306407\n",
       "Coupler                     187173\n",
       "Coupler_System              357667\n",
       "Grouser_Tracks              357763\n",
       "Hydraulics_Flow             357763\n",
       "Track_Type                  301972\n",
       "Undercarriage_Pad_Width     301253\n",
       "Stick_Length                301907\n",
       "Thumb                       301837\n",
       "Pattern_Changer             301907\n",
       "Grouser_Type                301972\n",
       "Backhoe_Mounting            322453\n",
       "Blade_Type                  321292\n",
       "Travel_Controls             321291\n",
       "Differential_Type           331714\n",
       "Steering_Controls           331756\n",
       "saleYear                         0\n",
       "saleMonth                        0\n",
       "saleDay                          0\n",
       "saleDayofWeek                    0\n",
       "saleDayofYear                    0\n",
       "dtype: int64"
      ]
     },
     "execution_count": 179,
     "metadata": {},
     "output_type": "execute_result"
    }
   ],
   "source": [
    "df_tmp.isna().sum()"
   ]
  },
  {
   "cell_type": "code",
   "execution_count": 180,
   "id": "230d22c8",
   "metadata": {},
   "outputs": [
    {
     "data": {
      "text/plain": [
       "C                43235\n",
       "B                39203\n",
       "G                36424\n",
       "H                24050\n",
       "E                21048\n",
       "                 ...  \n",
       "RC                   1\n",
       "BLGPPS               1\n",
       "R-2                  1\n",
       "USBL                 1\n",
       " MSR SPIN ACE        1\n",
       "Name: fiSecondaryDesc, Length: 175, dtype: int64"
      ]
     },
     "execution_count": 180,
     "metadata": {},
     "output_type": "execute_result"
    }
   ],
   "source": [
    "df_tmp[\"fiSecondaryDesc\"].value_counts(dropna=True)"
   ]
  },
  {
   "cell_type": "code",
   "execution_count": 181,
   "id": "ebbbc68d",
   "metadata": {},
   "outputs": [
    {
     "name": "stdout",
     "output_type": "stream",
     "text": [
      "SalesID\n",
      "SalePrice\n",
      "MachineID\n",
      "ModelID\n",
      "datasource\n",
      "auctioneerID\n",
      "YearMade\n",
      "MachineHoursCurrentMeter\n",
      "saleYear\n",
      "saleMonth\n",
      "saleDay\n",
      "saleDayofWeek\n",
      "saleDayofYear\n"
     ]
    }
   ],
   "source": [
    "for label,content in df_tmp.items():\n",
    "    if pd.api.types.is_numeric_dtype(content):\n",
    "        print(label)"
   ]
  },
  {
   "cell_type": "code",
   "execution_count": 182,
   "id": "949727f0",
   "metadata": {},
   "outputs": [
    {
     "name": "stdout",
     "output_type": "stream",
     "text": [
      "auctioneerID\n",
      "MachineHoursCurrentMeter\n"
     ]
    }
   ],
   "source": [
    "for label,content in df_tmp.items():\n",
    "    if pd.api.types.is_numeric_dtype(content):\n",
    "        if pd.isnull(content).sum():\n",
    "            print(label)"
   ]
  },
  {
   "cell_type": "code",
   "execution_count": 183,
   "id": "2572a981",
   "metadata": {},
   "outputs": [],
   "source": [
    "for label,content in df_tmp.items():\n",
    "    if pd.api.types.is_numeric_dtype(content):\n",
    "        if pd.isnull(content).sum():\n",
    "            # Add a binary column which tells if the data was missing our not\n",
    "            df_tmp[label+\"_is_missing\"] = pd.isnull(content)\n",
    "            # Fill missing numeric values with median since it's more robust than the mean\n",
    "            df_tmp[label] = content.fillna(content.median())"
   ]
  },
  {
   "cell_type": "code",
   "execution_count": 184,
   "id": "cd0ebc05",
   "metadata": {},
   "outputs": [],
   "source": [
    "# Check if there's any null values\n",
    "for label, content in df_tmp.items():\n",
    "    if pd.api.types.is_numeric_dtype(content):\n",
    "        if pd.isnull(content).sum():\n",
    "            print(label)"
   ]
  },
  {
   "cell_type": "code",
   "execution_count": 185,
   "id": "fa9db547",
   "metadata": {},
   "outputs": [
    {
     "data": {
      "text/plain": [
       "False    380989\n",
       "True      20136\n",
       "Name: auctioneerID_is_missing, dtype: int64"
      ]
     },
     "execution_count": 185,
     "metadata": {},
     "output_type": "execute_result"
    }
   ],
   "source": [
    "# Check to see how many examples were missing\n",
    "df_tmp.auctioneerID_is_missing.value_counts()"
   ]
  },
  {
   "cell_type": "markdown",
   "id": "0461b54a",
   "metadata": {},
   "source": [
    "### Filling and turning categorical values into numerical values"
   ]
  },
  {
   "cell_type": "code",
   "execution_count": 186,
   "id": "21b8040b",
   "metadata": {},
   "outputs": [
    {
     "data": {
      "text/plain": [
       "SalesID                                     0\n",
       "SalePrice                                   0\n",
       "MachineID                                   0\n",
       "ModelID                                     0\n",
       "datasource                                  0\n",
       "auctioneerID                                0\n",
       "YearMade                                    0\n",
       "MachineHoursCurrentMeter                    0\n",
       "UsageBand                              331486\n",
       "fiModelDesc                                 0\n",
       "fiBaseModel                                 0\n",
       "fiSecondaryDesc                        137191\n",
       "fiModelSeries                          344217\n",
       "fiModelDescriptor                      329206\n",
       "ProductSize                            210775\n",
       "fiProductClassDesc                          0\n",
       "state                                       0\n",
       "ProductGroup                                0\n",
       "ProductGroupDesc                            0\n",
       "Drive_System                           296764\n",
       "Enclosure                                 325\n",
       "Forks                                  209048\n",
       "Pad_Type                               321991\n",
       "Ride_Control                           252519\n",
       "Stick                                  321991\n",
       "Transmission                           217895\n",
       "Turbocharged                           321991\n",
       "Blade_Extension                        375906\n",
       "Blade_Width                            375906\n",
       "Enclosure_Type                         375906\n",
       "Engine_Horsepower                      375906\n",
       "Hydraulics                              80555\n",
       "Pushblock                              375906\n",
       "Ripper                                 296988\n",
       "Scarifier                              375895\n",
       "Tip_Control                            375906\n",
       "Tire_Size                              306407\n",
       "Coupler                                187173\n",
       "Coupler_System                         357667\n",
       "Grouser_Tracks                         357763\n",
       "Hydraulics_Flow                        357763\n",
       "Track_Type                             301972\n",
       "Undercarriage_Pad_Width                301253\n",
       "Stick_Length                           301907\n",
       "Thumb                                  301837\n",
       "Pattern_Changer                        301907\n",
       "Grouser_Type                           301972\n",
       "Backhoe_Mounting                       322453\n",
       "Blade_Type                             321292\n",
       "Travel_Controls                        321291\n",
       "Differential_Type                      331714\n",
       "Steering_Controls                      331756\n",
       "saleYear                                    0\n",
       "saleMonth                                   0\n",
       "saleDay                                     0\n",
       "saleDayofWeek                               0\n",
       "saleDayofYear                               0\n",
       "auctioneerID_is_missing                     0\n",
       "MachineHoursCurrentMeter_is_missing         0\n",
       "dtype: int64"
      ]
     },
     "execution_count": 186,
     "metadata": {},
     "output_type": "execute_result"
    }
   ],
   "source": [
    "df_tmp.isna().sum()"
   ]
  },
  {
   "cell_type": "code",
   "execution_count": 187,
   "id": "b2ea17a8",
   "metadata": {},
   "outputs": [],
   "source": [
    "# Turn Categorical variables into numbers\n",
    "for label,content in df_tmp.items():\n",
    "    if not pd.api.types.is_numeric_dtype(content):\n",
    "        df_tmp[label+\"_is_missing\"] = pd.isnull(content)\n",
    "        df_tmp[label] = pd.Categorical(content).codes+1"
   ]
  },
  {
   "cell_type": "code",
   "execution_count": 188,
   "id": "19ed734a",
   "metadata": {},
   "outputs": [
    {
     "data": {
      "text/html": [
       "<div>\n",
       "<style scoped>\n",
       "    .dataframe tbody tr th:only-of-type {\n",
       "        vertical-align: middle;\n",
       "    }\n",
       "\n",
       "    .dataframe tbody tr th {\n",
       "        vertical-align: top;\n",
       "    }\n",
       "\n",
       "    .dataframe thead th {\n",
       "        text-align: right;\n",
       "    }\n",
       "</style>\n",
       "<table border=\"1\" class=\"dataframe\">\n",
       "  <thead>\n",
       "    <tr style=\"text-align: right;\">\n",
       "      <th></th>\n",
       "      <th>205615</th>\n",
       "      <th>92803</th>\n",
       "      <th>98346</th>\n",
       "      <th>169297</th>\n",
       "      <th>274835</th>\n",
       "    </tr>\n",
       "  </thead>\n",
       "  <tbody>\n",
       "    <tr>\n",
       "      <th>SalesID</th>\n",
       "      <td>1646770</td>\n",
       "      <td>1404019</td>\n",
       "      <td>1415646</td>\n",
       "      <td>1596358</td>\n",
       "      <td>1821514</td>\n",
       "    </tr>\n",
       "    <tr>\n",
       "      <th>SalePrice</th>\n",
       "      <td>9500</td>\n",
       "      <td>24000</td>\n",
       "      <td>35000</td>\n",
       "      <td>19000</td>\n",
       "      <td>14000</td>\n",
       "    </tr>\n",
       "    <tr>\n",
       "      <th>MachineID</th>\n",
       "      <td>1126363</td>\n",
       "      <td>1169900</td>\n",
       "      <td>1262088</td>\n",
       "      <td>1433229</td>\n",
       "      <td>1194089</td>\n",
       "    </tr>\n",
       "    <tr>\n",
       "      <th>ModelID</th>\n",
       "      <td>8434</td>\n",
       "      <td>7110</td>\n",
       "      <td>3357</td>\n",
       "      <td>8247</td>\n",
       "      <td>10150</td>\n",
       "    </tr>\n",
       "    <tr>\n",
       "      <th>datasource</th>\n",
       "      <td>132</td>\n",
       "      <td>132</td>\n",
       "      <td>132</td>\n",
       "      <td>132</td>\n",
       "      <td>132</td>\n",
       "    </tr>\n",
       "    <tr>\n",
       "      <th>...</th>\n",
       "      <td>...</td>\n",
       "      <td>...</td>\n",
       "      <td>...</td>\n",
       "      <td>...</td>\n",
       "      <td>...</td>\n",
       "    </tr>\n",
       "    <tr>\n",
       "      <th>Backhoe_Mounting_is_missing</th>\n",
       "      <td>False</td>\n",
       "      <td>True</td>\n",
       "      <td>True</td>\n",
       "      <td>True</td>\n",
       "      <td>True</td>\n",
       "    </tr>\n",
       "    <tr>\n",
       "      <th>Blade_Type_is_missing</th>\n",
       "      <td>False</td>\n",
       "      <td>True</td>\n",
       "      <td>True</td>\n",
       "      <td>True</td>\n",
       "      <td>True</td>\n",
       "    </tr>\n",
       "    <tr>\n",
       "      <th>Travel_Controls_is_missing</th>\n",
       "      <td>False</td>\n",
       "      <td>True</td>\n",
       "      <td>True</td>\n",
       "      <td>True</td>\n",
       "      <td>True</td>\n",
       "    </tr>\n",
       "    <tr>\n",
       "      <th>Differential_Type_is_missing</th>\n",
       "      <td>True</td>\n",
       "      <td>True</td>\n",
       "      <td>True</td>\n",
       "      <td>False</td>\n",
       "      <td>False</td>\n",
       "    </tr>\n",
       "    <tr>\n",
       "      <th>Steering_Controls_is_missing</th>\n",
       "      <td>True</td>\n",
       "      <td>True</td>\n",
       "      <td>True</td>\n",
       "      <td>False</td>\n",
       "      <td>False</td>\n",
       "    </tr>\n",
       "  </tbody>\n",
       "</table>\n",
       "<p>103 rows × 5 columns</p>\n",
       "</div>"
      ],
      "text/plain": [
       "                               205615   92803    98346    169297   274835\n",
       "SalesID                       1646770  1404019  1415646  1596358  1821514\n",
       "SalePrice                        9500    24000    35000    19000    14000\n",
       "MachineID                     1126363  1169900  1262088  1433229  1194089\n",
       "ModelID                          8434     7110     3357     8247    10150\n",
       "datasource                        132      132      132      132      132\n",
       "...                               ...      ...      ...      ...      ...\n",
       "Backhoe_Mounting_is_missing     False     True     True     True     True\n",
       "Blade_Type_is_missing           False     True     True     True     True\n",
       "Travel_Controls_is_missing      False     True     True     True     True\n",
       "Differential_Type_is_missing     True     True     True    False    False\n",
       "Steering_Controls_is_missing     True     True     True    False    False\n",
       "\n",
       "[103 rows x 5 columns]"
      ]
     },
     "execution_count": 188,
     "metadata": {},
     "output_type": "execute_result"
    }
   ],
   "source": [
    "df_tmp.head().T"
   ]
  },
  {
   "cell_type": "code",
   "execution_count": 189,
   "id": "8dbd2255",
   "metadata": {},
   "outputs": [
    {
     "data": {
      "text/plain": [
       "SalesID                         0\n",
       "SalePrice                       0\n",
       "MachineID                       0\n",
       "ModelID                         0\n",
       "datasource                      0\n",
       "                               ..\n",
       "Backhoe_Mounting_is_missing     0\n",
       "Blade_Type_is_missing           0\n",
       "Travel_Controls_is_missing      0\n",
       "Differential_Type_is_missing    0\n",
       "Steering_Controls_is_missing    0\n",
       "Length: 103, dtype: int64"
      ]
     },
     "execution_count": 189,
     "metadata": {},
     "output_type": "execute_result"
    }
   ],
   "source": [
    "df_tmp.isna().sum()"
   ]
  },
  {
   "cell_type": "markdown",
   "id": "b829a54e",
   "metadata": {},
   "source": [
    "## Modelling"
   ]
  },
  {
   "cell_type": "code",
   "execution_count": 192,
   "id": "5fe0fc8e",
   "metadata": {},
   "outputs": [
    {
     "name": "stdout",
     "output_type": "stream",
     "text": [
      "CPU times: total: 33min 6s\n",
      "Wall time: 3min 16s\n"
     ]
    },
    {
     "data": {
      "text/html": [
       "<style>#sk-container-id-11 {color: black;}#sk-container-id-11 pre{padding: 0;}#sk-container-id-11 div.sk-toggleable {background-color: white;}#sk-container-id-11 label.sk-toggleable__label {cursor: pointer;display: block;width: 100%;margin-bottom: 0;padding: 0.3em;box-sizing: border-box;text-align: center;}#sk-container-id-11 label.sk-toggleable__label-arrow:before {content: \"▸\";float: left;margin-right: 0.25em;color: #696969;}#sk-container-id-11 label.sk-toggleable__label-arrow:hover:before {color: black;}#sk-container-id-11 div.sk-estimator:hover label.sk-toggleable__label-arrow:before {color: black;}#sk-container-id-11 div.sk-toggleable__content {max-height: 0;max-width: 0;overflow: hidden;text-align: left;background-color: #f0f8ff;}#sk-container-id-11 div.sk-toggleable__content pre {margin: 0.2em;color: black;border-radius: 0.25em;background-color: #f0f8ff;}#sk-container-id-11 input.sk-toggleable__control:checked~div.sk-toggleable__content {max-height: 200px;max-width: 100%;overflow: auto;}#sk-container-id-11 input.sk-toggleable__control:checked~label.sk-toggleable__label-arrow:before {content: \"▾\";}#sk-container-id-11 div.sk-estimator input.sk-toggleable__control:checked~label.sk-toggleable__label {background-color: #d4ebff;}#sk-container-id-11 div.sk-label input.sk-toggleable__control:checked~label.sk-toggleable__label {background-color: #d4ebff;}#sk-container-id-11 input.sk-hidden--visually {border: 0;clip: rect(1px 1px 1px 1px);clip: rect(1px, 1px, 1px, 1px);height: 1px;margin: -1px;overflow: hidden;padding: 0;position: absolute;width: 1px;}#sk-container-id-11 div.sk-estimator {font-family: monospace;background-color: #f0f8ff;border: 1px dotted black;border-radius: 0.25em;box-sizing: border-box;margin-bottom: 0.5em;}#sk-container-id-11 div.sk-estimator:hover {background-color: #d4ebff;}#sk-container-id-11 div.sk-parallel-item::after {content: \"\";width: 100%;border-bottom: 1px solid gray;flex-grow: 1;}#sk-container-id-11 div.sk-label:hover label.sk-toggleable__label {background-color: #d4ebff;}#sk-container-id-11 div.sk-serial::before {content: \"\";position: absolute;border-left: 1px solid gray;box-sizing: border-box;top: 0;bottom: 0;left: 50%;z-index: 0;}#sk-container-id-11 div.sk-serial {display: flex;flex-direction: column;align-items: center;background-color: white;padding-right: 0.2em;padding-left: 0.2em;position: relative;}#sk-container-id-11 div.sk-item {position: relative;z-index: 1;}#sk-container-id-11 div.sk-parallel {display: flex;align-items: stretch;justify-content: center;background-color: white;position: relative;}#sk-container-id-11 div.sk-item::before, #sk-container-id-11 div.sk-parallel-item::before {content: \"\";position: absolute;border-left: 1px solid gray;box-sizing: border-box;top: 0;bottom: 0;left: 50%;z-index: -1;}#sk-container-id-11 div.sk-parallel-item {display: flex;flex-direction: column;z-index: 1;position: relative;background-color: white;}#sk-container-id-11 div.sk-parallel-item:first-child::after {align-self: flex-end;width: 50%;}#sk-container-id-11 div.sk-parallel-item:last-child::after {align-self: flex-start;width: 50%;}#sk-container-id-11 div.sk-parallel-item:only-child::after {width: 0;}#sk-container-id-11 div.sk-dashed-wrapped {border: 1px dashed gray;margin: 0 0.4em 0.5em 0.4em;box-sizing: border-box;padding-bottom: 0.4em;background-color: white;}#sk-container-id-11 div.sk-label label {font-family: monospace;font-weight: bold;display: inline-block;line-height: 1.2em;}#sk-container-id-11 div.sk-label-container {text-align: center;}#sk-container-id-11 div.sk-container {/* jupyter's `normalize.less` sets `[hidden] { display: none; }` but bootstrap.min.css set `[hidden] { display: none !important; }` so we also need the `!important` here to be able to override the default hidden behavior on the sphinx rendered scikit-learn.org. See: https://github.com/scikit-learn/scikit-learn/issues/21755 */display: inline-block !important;position: relative;}#sk-container-id-11 div.sk-text-repr-fallback {display: none;}</style><div id=\"sk-container-id-11\" class=\"sk-top-container\"><div class=\"sk-text-repr-fallback\"><pre>RandomForestRegressor(n_jobs=-1, random_state=42)</pre><b>In a Jupyter environment, please rerun this cell to show the HTML representation or trust the notebook. <br />On GitHub, the HTML representation is unable to render, please try loading this page with nbviewer.org.</b></div><div class=\"sk-container\" hidden><div class=\"sk-item\"><div class=\"sk-estimator sk-toggleable\"><input class=\"sk-toggleable__control sk-hidden--visually\" id=\"sk-estimator-id-17\" type=\"checkbox\" checked><label for=\"sk-estimator-id-17\" class=\"sk-toggleable__label sk-toggleable__label-arrow\">RandomForestRegressor</label><div class=\"sk-toggleable__content\"><pre>RandomForestRegressor(n_jobs=-1, random_state=42)</pre></div></div></div></div></div>"
      ],
      "text/plain": [
       "RandomForestRegressor(n_jobs=-1, random_state=42)"
      ]
     },
     "execution_count": 192,
     "metadata": {},
     "output_type": "execute_result"
    }
   ],
   "source": [
    "%%time\n",
    "from sklearn.ensemble import RandomForestRegressor\n",
    "#Instantiate model\n",
    "model = RandomForestRegressor(n_jobs=-1,random_state=42)\n",
    "\n",
    "#Fit the model\n",
    "model.fit(df_tmp.drop(\"SalePrice\", axis=1), df_tmp[\"SalePrice\"])"
   ]
  },
  {
   "cell_type": "code",
   "execution_count": 193,
   "id": "4b968c0d",
   "metadata": {},
   "outputs": [
    {
     "data": {
      "text/plain": [
       "0.9875209731205072"
      ]
     },
     "execution_count": 193,
     "metadata": {},
     "output_type": "execute_result"
    }
   ],
   "source": [
    "model.score(df_tmp.drop(\"SalePrice\", axis=1), df_tmp[\"SalePrice\"])"
   ]
  },
  {
   "cell_type": "markdown",
   "id": "7e615170",
   "metadata": {},
   "source": [
    "The above metric doesn't hold "
   ]
  },
  {
   "cell_type": "code",
   "execution_count": 194,
   "id": "196a81f0",
   "metadata": {},
   "outputs": [
    {
     "data": {
      "text/plain": [
       "2009    43849\n",
       "2008    39767\n",
       "2011    35197\n",
       "2010    33390\n",
       "2007    32208\n",
       "2006    21685\n",
       "2005    20463\n",
       "2004    19879\n",
       "2001    17594\n",
       "2000    17415\n",
       "2002    17246\n",
       "2003    15254\n",
       "1998    13046\n",
       "1999    12793\n",
       "1997     9785\n",
       "1996     8829\n",
       "1995     8530\n",
       "1994     7929\n",
       "1993     6303\n",
       "1992     5519\n",
       "1991     5109\n",
       "1989     4806\n",
       "1990     4529\n",
       "Name: saleYear, dtype: int64"
      ]
     },
     "execution_count": 194,
     "metadata": {},
     "output_type": "execute_result"
    }
   ],
   "source": [
    "df_tmp[\"saleYear\"].value_counts()"
   ]
  },
  {
   "cell_type": "code",
   "execution_count": 195,
   "id": "6968a548",
   "metadata": {},
   "outputs": [],
   "source": [
    "df_tmp1 = pd.read_csv(\"data/bluebook-for-bulldozers/Valid.csv\", low_memory=False, parse_dates=[\"saledate\"])"
   ]
  },
  {
   "cell_type": "code",
   "execution_count": 196,
   "id": "c74203b3",
   "metadata": {},
   "outputs": [
    {
     "name": "stdout",
     "output_type": "stream",
     "text": [
      "<class 'pandas.core.frame.DataFrame'>\n",
      "RangeIndex: 11573 entries, 0 to 11572\n",
      "Data columns (total 52 columns):\n",
      " #   Column                    Non-Null Count  Dtype         \n",
      "---  ------                    --------------  -----         \n",
      " 0   SalesID                   11573 non-null  int64         \n",
      " 1   MachineID                 11573 non-null  int64         \n",
      " 2   ModelID                   11573 non-null  int64         \n",
      " 3   datasource                11573 non-null  int64         \n",
      " 4   auctioneerID              11573 non-null  int64         \n",
      " 5   YearMade                  11573 non-null  int64         \n",
      " 6   MachineHoursCurrentMeter  4739 non-null   float64       \n",
      " 7   UsageBand                 4031 non-null   object        \n",
      " 8   saledate                  11573 non-null  datetime64[ns]\n",
      " 9   fiModelDesc               11573 non-null  object        \n",
      " 10  fiBaseModel               11573 non-null  object        \n",
      " 11  fiSecondaryDesc           8037 non-null   object        \n",
      " 12  fiModelSeries             1759 non-null   object        \n",
      " 13  fiModelDescriptor         2897 non-null   object        \n",
      " 14  ProductSize               5743 non-null   object        \n",
      " 15  fiProductClassDesc        11573 non-null  object        \n",
      " 16  state                     11573 non-null  object        \n",
      " 17  ProductGroup              11573 non-null  object        \n",
      " 18  ProductGroupDesc          11573 non-null  object        \n",
      " 19  Drive_System              2726 non-null   object        \n",
      " 20  Enclosure                 11564 non-null  object        \n",
      " 21  Forks                     5638 non-null   object        \n",
      " 22  Pad_Type                  1962 non-null   object        \n",
      " 23  Ride_Control              4122 non-null   object        \n",
      " 24  Stick                     1962 non-null   object        \n",
      " 25  Transmission              4777 non-null   object        \n",
      " 26  Turbocharged              1962 non-null   object        \n",
      " 27  Blade_Extension           764 non-null    object        \n",
      " 28  Blade_Width               764 non-null    object        \n",
      " 29  Enclosure_Type            764 non-null    object        \n",
      " 30  Engine_Horsepower         764 non-null    object        \n",
      " 31  Hydraulics                9563 non-null   object        \n",
      " 32  Pushblock                 764 non-null    object        \n",
      " 33  Ripper                    2808 non-null   object        \n",
      " 34  Scarifier                 764 non-null    object        \n",
      " 35  Tip_Control               764 non-null    object        \n",
      " 36  Tire_Size                 2920 non-null   object        \n",
      " 37  Coupler                   6727 non-null   object        \n",
      " 38  Coupler_System            1516 non-null   object        \n",
      " 39  Grouser_Tracks            1513 non-null   object        \n",
      " 40  Hydraulics_Flow           1513 non-null   object        \n",
      " 41  Track_Type                3040 non-null   object        \n",
      " 42  Undercarriage_Pad_Width   3044 non-null   object        \n",
      " 43  Stick_Length              3043 non-null   object        \n",
      " 44  Thumb                     3044 non-null   object        \n",
      " 45  Pattern_Changer           3043 non-null   object        \n",
      " 46  Grouser_Type              3040 non-null   object        \n",
      " 47  Backhoe_Mounting          2040 non-null   object        \n",
      " 48  Blade_Type                2042 non-null   object        \n",
      " 49  Travel_Controls           2043 non-null   object        \n",
      " 50  Differential_Type         2153 non-null   object        \n",
      " 51  Steering_Controls         2153 non-null   object        \n",
      "dtypes: datetime64[ns](1), float64(1), int64(6), object(44)\n",
      "memory usage: 4.6+ MB\n"
     ]
    }
   ],
   "source": [
    "df_tmp1.info()"
   ]
  },
  {
   "cell_type": "code",
   "execution_count": 197,
   "id": "97b413fc",
   "metadata": {},
   "outputs": [
    {
     "data": {
      "text/plain": [
       "4550    2012-01-01\n",
       "4951    2012-01-04\n",
       "7893    2012-01-04\n",
       "7901    2012-01-04\n",
       "4       2012-01-04\n",
       "           ...    \n",
       "11351   2012-04-28\n",
       "8771    2012-04-28\n",
       "8776    2012-04-28\n",
       "4652    2012-04-28\n",
       "9754    2012-04-28\n",
       "Name: saledate, Length: 11573, dtype: datetime64[ns]"
      ]
     },
     "execution_count": 197,
     "metadata": {},
     "output_type": "execute_result"
    }
   ],
   "source": [
    "df_tmp1.sort_values([\"saledate\"], inplace=True, ascending=True)\n",
    "df_tmp1[\"saledate\"]"
   ]
  },
  {
   "cell_type": "code",
   "execution_count": 198,
   "id": "3c7eb3f4",
   "metadata": {},
   "outputs": [],
   "source": [
    "df_tmp1[\"saleYear\"] = df_tmp1.saledate.dt.year\n",
    "df_tmp1[\"saleMonth\"] = df_tmp1.saledate.dt.month\n",
    "df_tmp1[\"saleDay\"] = df_tmp1.saledate.dt.day\n",
    "df_tmp1[\"saleDayofWeek\"] = df_tmp1.saledate.dt.day_of_week\n",
    "df_tmp1[\"saleDayofYear\"] = df_tmp1.saledate.dt.day_of_year"
   ]
  },
  {
   "cell_type": "code",
   "execution_count": 199,
   "id": "1073d1cf",
   "metadata": {},
   "outputs": [],
   "source": [
    "df_tmp1.drop(\"saledate\", axis=1, inplace=True)"
   ]
  },
  {
   "cell_type": "code",
   "execution_count": 200,
   "id": "8f60925b",
   "metadata": {},
   "outputs": [
    {
     "data": {
      "text/plain": [
       "SalesID                         0\n",
       "MachineID                       0\n",
       "ModelID                         0\n",
       "datasource                      0\n",
       "auctioneerID                    0\n",
       "YearMade                        0\n",
       "MachineHoursCurrentMeter     6834\n",
       "UsageBand                    7542\n",
       "fiModelDesc                     0\n",
       "fiBaseModel                     0\n",
       "fiSecondaryDesc              3536\n",
       "fiModelSeries                9814\n",
       "fiModelDescriptor            8676\n",
       "ProductSize                  5830\n",
       "fiProductClassDesc              0\n",
       "state                           0\n",
       "ProductGroup                    0\n",
       "ProductGroupDesc                0\n",
       "Drive_System                 8847\n",
       "Enclosure                       9\n",
       "Forks                        5935\n",
       "Pad_Type                     9611\n",
       "Ride_Control                 7451\n",
       "Stick                        9611\n",
       "Transmission                 6796\n",
       "Turbocharged                 9611\n",
       "Blade_Extension             10809\n",
       "Blade_Width                 10809\n",
       "Enclosure_Type              10809\n",
       "Engine_Horsepower           10809\n",
       "Hydraulics                   2010\n",
       "Pushblock                   10809\n",
       "Ripper                       8765\n",
       "Scarifier                   10809\n",
       "Tip_Control                 10809\n",
       "Tire_Size                    8653\n",
       "Coupler                      4846\n",
       "Coupler_System              10057\n",
       "Grouser_Tracks              10060\n",
       "Hydraulics_Flow             10060\n",
       "Track_Type                   8533\n",
       "Undercarriage_Pad_Width      8529\n",
       "Stick_Length                 8530\n",
       "Thumb                        8529\n",
       "Pattern_Changer              8530\n",
       "Grouser_Type                 8533\n",
       "Backhoe_Mounting             9533\n",
       "Blade_Type                   9531\n",
       "Travel_Controls              9530\n",
       "Differential_Type            9420\n",
       "Steering_Controls            9420\n",
       "saleYear                        0\n",
       "saleMonth                       0\n",
       "saleDay                         0\n",
       "saleDayofWeek                   0\n",
       "saleDayofYear                   0\n",
       "dtype: int64"
      ]
     },
     "execution_count": 200,
     "metadata": {},
     "output_type": "execute_result"
    }
   ],
   "source": [
    "df_tmp1.isna().sum()"
   ]
  },
  {
   "cell_type": "code",
   "execution_count": 201,
   "id": "c0e3ecae",
   "metadata": {},
   "outputs": [],
   "source": [
    "for label,content in df_tmp1.items():\n",
    "    if pd.api.types.is_numeric_dtype(content):\n",
    "        if pd.isnull(content).sum():\n",
    "            # Add a binary column which tells if the data was missing our not\n",
    "            df_tmp1[label+\"_is_missing\"] = pd.isnull(content)\n",
    "            # Fill missing numeric values with median since it's more robust than the mean\n",
    "            df_tmp1[label] = content.fillna(content.median())\n",
    "\n",
    "# Turn Categorical variables into numbers\n",
    "for label,content in df_tmp1.items():\n",
    "    if not pd.api.types.is_numeric_dtype(content):\n",
    "        df_tmp1[label+\"_is_missing\"] = pd.isnull(content)\n",
    "        df_tmp1[label] = pd.Categorical(content).codes+1            "
   ]
  },
  {
   "cell_type": "code",
   "execution_count": 202,
   "id": "f37717cd",
   "metadata": {},
   "outputs": [
    {
     "data": {
      "text/plain": [
       "SalesID                         0\n",
       "MachineID                       0\n",
       "ModelID                         0\n",
       "datasource                      0\n",
       "auctioneerID                    0\n",
       "                               ..\n",
       "Backhoe_Mounting_is_missing     0\n",
       "Blade_Type_is_missing           0\n",
       "Travel_Controls_is_missing      0\n",
       "Differential_Type_is_missing    0\n",
       "Steering_Controls_is_missing    0\n",
       "Length: 101, dtype: int64"
      ]
     },
     "execution_count": 202,
     "metadata": {},
     "output_type": "execute_result"
    }
   ],
   "source": [
    "df_tmp1.isna().sum()"
   ]
  },
  {
   "cell_type": "code",
   "execution_count": 203,
   "id": "1ece00ac",
   "metadata": {},
   "outputs": [
    {
     "data": {
      "text/html": [
       "<div>\n",
       "<style scoped>\n",
       "    .dataframe tbody tr th:only-of-type {\n",
       "        vertical-align: middle;\n",
       "    }\n",
       "\n",
       "    .dataframe tbody tr th {\n",
       "        vertical-align: top;\n",
       "    }\n",
       "\n",
       "    .dataframe thead th {\n",
       "        text-align: right;\n",
       "    }\n",
       "</style>\n",
       "<table border=\"1\" class=\"dataframe\">\n",
       "  <thead>\n",
       "    <tr style=\"text-align: right;\">\n",
       "      <th></th>\n",
       "      <th>0</th>\n",
       "      <th>1</th>\n",
       "      <th>2</th>\n",
       "      <th>3</th>\n",
       "      <th>4</th>\n",
       "    </tr>\n",
       "  </thead>\n",
       "  <tbody>\n",
       "    <tr>\n",
       "      <th>SalesID</th>\n",
       "      <td>1222837</td>\n",
       "      <td>1222839</td>\n",
       "      <td>1222841</td>\n",
       "      <td>1222843</td>\n",
       "      <td>1222845</td>\n",
       "    </tr>\n",
       "    <tr>\n",
       "      <th>SalePrice</th>\n",
       "      <td>31000.0</td>\n",
       "      <td>54000.0</td>\n",
       "      <td>26500.0</td>\n",
       "      <td>10000.0</td>\n",
       "      <td>35000.0</td>\n",
       "    </tr>\n",
       "    <tr>\n",
       "      <th>Usage</th>\n",
       "      <td>PublicTest</td>\n",
       "      <td>PublicTest</td>\n",
       "      <td>PublicTest</td>\n",
       "      <td>PublicTest</td>\n",
       "      <td>PublicTest</td>\n",
       "    </tr>\n",
       "  </tbody>\n",
       "</table>\n",
       "</div>"
      ],
      "text/plain": [
       "                    0           1           2           3           4\n",
       "SalesID       1222837     1222839     1222841     1222843     1222845\n",
       "SalePrice     31000.0     54000.0     26500.0     10000.0     35000.0\n",
       "Usage      PublicTest  PublicTest  PublicTest  PublicTest  PublicTest"
      ]
     },
     "execution_count": 203,
     "metadata": {},
     "output_type": "execute_result"
    }
   ],
   "source": [
    "df_val = pd.read_csv(\"data/bluebook-for-bulldozers/ValidSolution.csv\", low_memory=False)\n",
    "df_val.head().T"
   ]
  },
  {
   "cell_type": "code",
   "execution_count": 204,
   "id": "61baa0ea",
   "metadata": {},
   "outputs": [
    {
     "data": {
      "text/plain": [
       "((401125, 101), (401125,), (11573, 101), (11573,))"
      ]
     },
     "execution_count": 204,
     "metadata": {},
     "output_type": "execute_result"
    }
   ],
   "source": [
    "# Split data into train and test sets\n",
    "x_train, y_train = df_tmp.drop([\"SalePrice\", \"auctioneerID_is_missing\"], axis=1), df_tmp.SalePrice\n",
    "x_test, y_test =  df_tmp1, df_val.SalePrice\n",
    "\n",
    "x_train.shape, y_train.shape, x_test.shape, y_test.shape"
   ]
  },
  {
   "cell_type": "code",
   "execution_count": 205,
   "id": "ad834f53",
   "metadata": {},
   "outputs": [
    {
     "data": {
      "text/plain": [
       "4550     99\n",
       "4951     99\n",
       "7893     99\n",
       "7901     99\n",
       "4         3\n",
       "         ..\n",
       "11351    99\n",
       "8771     99\n",
       "8776     99\n",
       "4652     99\n",
       "9754     99\n",
       "Name: auctioneerID, Length: 11573, dtype: int64"
      ]
     },
     "execution_count": 205,
     "metadata": {},
     "output_type": "execute_result"
    }
   ],
   "source": [
    "df_tmp1.auctioneerID"
   ]
  },
  {
   "cell_type": "markdown",
   "id": "5e0f231a",
   "metadata": {},
   "source": [
    "### Building an evaluation function\n",
    "\n",
    "According to Kaggle for the Bluebook for Bulldozers competition, the evaluation function they use is root mean squared log error (RMSLE).\n",
    "\n",
    "RMSLE = generally you don't care as much if you're off by $10 as much as you'd care if you were off by 10%, you care more about ratios rather than differences. MAE (mean absolute error) is more about exact differences.\n",
    "\n",
    "It's important to understand the evaluation metric you're going for.\n",
    "\n",
    "Since Scikit-Learn doesn't have a function built-in for RMSLE, we'll create our own.\n",
    "\n",
    "We can do this by taking the square root of Scikit-Learn's mean_squared_log_error (MSLE). MSLE is the same as taking the log of mean squared error (MSE).\n",
    "\n",
    "We'll also calculate the MAE and R^2."
   ]
  },
  {
   "cell_type": "code",
   "execution_count": 206,
   "id": "3ad7be86",
   "metadata": {},
   "outputs": [],
   "source": [
    "# Create Evaluation metrics\n",
    "from sklearn.metrics import mean_squared_log_error, mean_absolute_error\n",
    "from sklearn.metrics import r2_score\n",
    "\n",
    "def rmsle(y_test, y_preds):\n",
    "    return np.sqrt(mean_squared_log_error(y_test, y_preds))\n",
    "\n",
    "def show_scores(model):\n",
    "    train_preds = model.predict(x_train)\n",
    "    val_preds = model.predict(x_test)\n",
    "    scores = {\"Training MAE\": mean_absolute_error(y_train, train_preds),\n",
    "              \"Valid MAE\": mean_absolute_error(y_test, val_preds),\n",
    "              \"Training RMSLE\": rmsle(y_train, train_preds),\n",
    "              \"Valid RMSLE\": rmsle(y_test, val_preds),\n",
    "              \"Training R^2\": r2_score(y_train, train_preds),\n",
    "              \"Valid R^2\": r2_score(y_test, val_preds)}\n",
    "    return scores"
   ]
  },
  {
   "cell_type": "markdown",
   "id": "b57629c1",
   "metadata": {},
   "source": [
    "## Testing our model on a subset(to tune hyperparameters)"
   ]
  },
  {
   "cell_type": "code",
   "execution_count": 207,
   "id": "b447ecad",
   "metadata": {},
   "outputs": [],
   "source": [
    "model = RandomForestRegressor(n_jobs=-1,random_state=42, max_samples=10000)"
   ]
  },
  {
   "cell_type": "code",
   "execution_count": 208,
   "id": "920e3b3e",
   "metadata": {},
   "outputs": [
    {
     "name": "stdout",
     "output_type": "stream",
     "text": [
      "CPU times: total: 1min 12s\n",
      "Wall time: 7.27 s\n"
     ]
    },
    {
     "data": {
      "text/html": [
       "<style>#sk-container-id-12 {color: black;}#sk-container-id-12 pre{padding: 0;}#sk-container-id-12 div.sk-toggleable {background-color: white;}#sk-container-id-12 label.sk-toggleable__label {cursor: pointer;display: block;width: 100%;margin-bottom: 0;padding: 0.3em;box-sizing: border-box;text-align: center;}#sk-container-id-12 label.sk-toggleable__label-arrow:before {content: \"▸\";float: left;margin-right: 0.25em;color: #696969;}#sk-container-id-12 label.sk-toggleable__label-arrow:hover:before {color: black;}#sk-container-id-12 div.sk-estimator:hover label.sk-toggleable__label-arrow:before {color: black;}#sk-container-id-12 div.sk-toggleable__content {max-height: 0;max-width: 0;overflow: hidden;text-align: left;background-color: #f0f8ff;}#sk-container-id-12 div.sk-toggleable__content pre {margin: 0.2em;color: black;border-radius: 0.25em;background-color: #f0f8ff;}#sk-container-id-12 input.sk-toggleable__control:checked~div.sk-toggleable__content {max-height: 200px;max-width: 100%;overflow: auto;}#sk-container-id-12 input.sk-toggleable__control:checked~label.sk-toggleable__label-arrow:before {content: \"▾\";}#sk-container-id-12 div.sk-estimator input.sk-toggleable__control:checked~label.sk-toggleable__label {background-color: #d4ebff;}#sk-container-id-12 div.sk-label input.sk-toggleable__control:checked~label.sk-toggleable__label {background-color: #d4ebff;}#sk-container-id-12 input.sk-hidden--visually {border: 0;clip: rect(1px 1px 1px 1px);clip: rect(1px, 1px, 1px, 1px);height: 1px;margin: -1px;overflow: hidden;padding: 0;position: absolute;width: 1px;}#sk-container-id-12 div.sk-estimator {font-family: monospace;background-color: #f0f8ff;border: 1px dotted black;border-radius: 0.25em;box-sizing: border-box;margin-bottom: 0.5em;}#sk-container-id-12 div.sk-estimator:hover {background-color: #d4ebff;}#sk-container-id-12 div.sk-parallel-item::after {content: \"\";width: 100%;border-bottom: 1px solid gray;flex-grow: 1;}#sk-container-id-12 div.sk-label:hover label.sk-toggleable__label {background-color: #d4ebff;}#sk-container-id-12 div.sk-serial::before {content: \"\";position: absolute;border-left: 1px solid gray;box-sizing: border-box;top: 0;bottom: 0;left: 50%;z-index: 0;}#sk-container-id-12 div.sk-serial {display: flex;flex-direction: column;align-items: center;background-color: white;padding-right: 0.2em;padding-left: 0.2em;position: relative;}#sk-container-id-12 div.sk-item {position: relative;z-index: 1;}#sk-container-id-12 div.sk-parallel {display: flex;align-items: stretch;justify-content: center;background-color: white;position: relative;}#sk-container-id-12 div.sk-item::before, #sk-container-id-12 div.sk-parallel-item::before {content: \"\";position: absolute;border-left: 1px solid gray;box-sizing: border-box;top: 0;bottom: 0;left: 50%;z-index: -1;}#sk-container-id-12 div.sk-parallel-item {display: flex;flex-direction: column;z-index: 1;position: relative;background-color: white;}#sk-container-id-12 div.sk-parallel-item:first-child::after {align-self: flex-end;width: 50%;}#sk-container-id-12 div.sk-parallel-item:last-child::after {align-self: flex-start;width: 50%;}#sk-container-id-12 div.sk-parallel-item:only-child::after {width: 0;}#sk-container-id-12 div.sk-dashed-wrapped {border: 1px dashed gray;margin: 0 0.4em 0.5em 0.4em;box-sizing: border-box;padding-bottom: 0.4em;background-color: white;}#sk-container-id-12 div.sk-label label {font-family: monospace;font-weight: bold;display: inline-block;line-height: 1.2em;}#sk-container-id-12 div.sk-label-container {text-align: center;}#sk-container-id-12 div.sk-container {/* jupyter's `normalize.less` sets `[hidden] { display: none; }` but bootstrap.min.css set `[hidden] { display: none !important; }` so we also need the `!important` here to be able to override the default hidden behavior on the sphinx rendered scikit-learn.org. See: https://github.com/scikit-learn/scikit-learn/issues/21755 */display: inline-block !important;position: relative;}#sk-container-id-12 div.sk-text-repr-fallback {display: none;}</style><div id=\"sk-container-id-12\" class=\"sk-top-container\"><div class=\"sk-text-repr-fallback\"><pre>RandomForestRegressor(max_samples=10000, n_jobs=-1, random_state=42)</pre><b>In a Jupyter environment, please rerun this cell to show the HTML representation or trust the notebook. <br />On GitHub, the HTML representation is unable to render, please try loading this page with nbviewer.org.</b></div><div class=\"sk-container\" hidden><div class=\"sk-item\"><div class=\"sk-estimator sk-toggleable\"><input class=\"sk-toggleable__control sk-hidden--visually\" id=\"sk-estimator-id-18\" type=\"checkbox\" checked><label for=\"sk-estimator-id-18\" class=\"sk-toggleable__label sk-toggleable__label-arrow\">RandomForestRegressor</label><div class=\"sk-toggleable__content\"><pre>RandomForestRegressor(max_samples=10000, n_jobs=-1, random_state=42)</pre></div></div></div></div></div>"
      ],
      "text/plain": [
       "RandomForestRegressor(max_samples=10000, n_jobs=-1, random_state=42)"
      ]
     },
     "execution_count": 208,
     "metadata": {},
     "output_type": "execute_result"
    }
   ],
   "source": [
    "%%time\n",
    "#Cutting the run time by limiting the samples that are fitted in the model\n",
    "model.fit(x_train, y_train)"
   ]
  },
  {
   "cell_type": "code",
   "execution_count": 209,
   "id": "db5ddc2b",
   "metadata": {},
   "outputs": [
    {
     "data": {
      "text/plain": [
       "{'Training MAE': 5556.874394689935,\n",
       " 'Valid MAE': 25113.973798496503,\n",
       " 'Training RMSLE': 0.2576603373982268,\n",
       " 'Valid RMSLE': 0.9841613987792838,\n",
       " 'Training R^2': 0.861141061931249,\n",
       " 'Valid R^2': -0.6107618304239244}"
      ]
     },
     "execution_count": 209,
     "metadata": {},
     "output_type": "execute_result"
    }
   ],
   "source": [
    "show_scores(model)"
   ]
  },
  {
   "cell_type": "code",
   "execution_count": 210,
   "id": "fbff763f",
   "metadata": {},
   "outputs": [
    {
     "name": "stdout",
     "output_type": "stream",
     "text": [
      "Fitting 5 folds for each of 5 candidates, totalling 25 fits\n"
     ]
    },
    {
     "data": {
      "text/html": [
       "<style>#sk-container-id-13 {color: black;}#sk-container-id-13 pre{padding: 0;}#sk-container-id-13 div.sk-toggleable {background-color: white;}#sk-container-id-13 label.sk-toggleable__label {cursor: pointer;display: block;width: 100%;margin-bottom: 0;padding: 0.3em;box-sizing: border-box;text-align: center;}#sk-container-id-13 label.sk-toggleable__label-arrow:before {content: \"▸\";float: left;margin-right: 0.25em;color: #696969;}#sk-container-id-13 label.sk-toggleable__label-arrow:hover:before {color: black;}#sk-container-id-13 div.sk-estimator:hover label.sk-toggleable__label-arrow:before {color: black;}#sk-container-id-13 div.sk-toggleable__content {max-height: 0;max-width: 0;overflow: hidden;text-align: left;background-color: #f0f8ff;}#sk-container-id-13 div.sk-toggleable__content pre {margin: 0.2em;color: black;border-radius: 0.25em;background-color: #f0f8ff;}#sk-container-id-13 input.sk-toggleable__control:checked~div.sk-toggleable__content {max-height: 200px;max-width: 100%;overflow: auto;}#sk-container-id-13 input.sk-toggleable__control:checked~label.sk-toggleable__label-arrow:before {content: \"▾\";}#sk-container-id-13 div.sk-estimator input.sk-toggleable__control:checked~label.sk-toggleable__label {background-color: #d4ebff;}#sk-container-id-13 div.sk-label input.sk-toggleable__control:checked~label.sk-toggleable__label {background-color: #d4ebff;}#sk-container-id-13 input.sk-hidden--visually {border: 0;clip: rect(1px 1px 1px 1px);clip: rect(1px, 1px, 1px, 1px);height: 1px;margin: -1px;overflow: hidden;padding: 0;position: absolute;width: 1px;}#sk-container-id-13 div.sk-estimator {font-family: monospace;background-color: #f0f8ff;border: 1px dotted black;border-radius: 0.25em;box-sizing: border-box;margin-bottom: 0.5em;}#sk-container-id-13 div.sk-estimator:hover {background-color: #d4ebff;}#sk-container-id-13 div.sk-parallel-item::after {content: \"\";width: 100%;border-bottom: 1px solid gray;flex-grow: 1;}#sk-container-id-13 div.sk-label:hover label.sk-toggleable__label {background-color: #d4ebff;}#sk-container-id-13 div.sk-serial::before {content: \"\";position: absolute;border-left: 1px solid gray;box-sizing: border-box;top: 0;bottom: 0;left: 50%;z-index: 0;}#sk-container-id-13 div.sk-serial {display: flex;flex-direction: column;align-items: center;background-color: white;padding-right: 0.2em;padding-left: 0.2em;position: relative;}#sk-container-id-13 div.sk-item {position: relative;z-index: 1;}#sk-container-id-13 div.sk-parallel {display: flex;align-items: stretch;justify-content: center;background-color: white;position: relative;}#sk-container-id-13 div.sk-item::before, #sk-container-id-13 div.sk-parallel-item::before {content: \"\";position: absolute;border-left: 1px solid gray;box-sizing: border-box;top: 0;bottom: 0;left: 50%;z-index: -1;}#sk-container-id-13 div.sk-parallel-item {display: flex;flex-direction: column;z-index: 1;position: relative;background-color: white;}#sk-container-id-13 div.sk-parallel-item:first-child::after {align-self: flex-end;width: 50%;}#sk-container-id-13 div.sk-parallel-item:last-child::after {align-self: flex-start;width: 50%;}#sk-container-id-13 div.sk-parallel-item:only-child::after {width: 0;}#sk-container-id-13 div.sk-dashed-wrapped {border: 1px dashed gray;margin: 0 0.4em 0.5em 0.4em;box-sizing: border-box;padding-bottom: 0.4em;background-color: white;}#sk-container-id-13 div.sk-label label {font-family: monospace;font-weight: bold;display: inline-block;line-height: 1.2em;}#sk-container-id-13 div.sk-label-container {text-align: center;}#sk-container-id-13 div.sk-container {/* jupyter's `normalize.less` sets `[hidden] { display: none; }` but bootstrap.min.css set `[hidden] { display: none !important; }` so we also need the `!important` here to be able to override the default hidden behavior on the sphinx rendered scikit-learn.org. See: https://github.com/scikit-learn/scikit-learn/issues/21755 */display: inline-block !important;position: relative;}#sk-container-id-13 div.sk-text-repr-fallback {display: none;}</style><div id=\"sk-container-id-13\" class=\"sk-top-container\"><div class=\"sk-text-repr-fallback\"><pre>RandomizedSearchCV(cv=5,\n",
       "                   estimator=RandomForestRegressor(n_jobs=-1, random_state=42),\n",
       "                   n_iter=5,\n",
       "                   param_distributions={&#x27;max_depth&#x27;: [None, 3, 5, 10],\n",
       "                                        &#x27;max_features&#x27;: [0.5, 1, &#x27;sqrt&#x27;,\n",
       "                                                         &#x27;auto&#x27;],\n",
       "                                        &#x27;max_samples&#x27;: [10000],\n",
       "                                        &#x27;min_samples_leaf&#x27;: array([ 1,  3,  5,  7,  9, 11, 13, 15, 17, 19]),\n",
       "                                        &#x27;min_samples_split&#x27;: array([ 2,  4,  6,  8, 10, 12, 14, 16, 18]),\n",
       "                                        &#x27;n_estimators&#x27;: array([10, 20, 30, 40, 50, 60, 70, 80, 90])},\n",
       "                   verbose=True)</pre><b>In a Jupyter environment, please rerun this cell to show the HTML representation or trust the notebook. <br />On GitHub, the HTML representation is unable to render, please try loading this page with nbviewer.org.</b></div><div class=\"sk-container\" hidden><div class=\"sk-item sk-dashed-wrapped\"><div class=\"sk-label-container\"><div class=\"sk-label sk-toggleable\"><input class=\"sk-toggleable__control sk-hidden--visually\" id=\"sk-estimator-id-19\" type=\"checkbox\" ><label for=\"sk-estimator-id-19\" class=\"sk-toggleable__label sk-toggleable__label-arrow\">RandomizedSearchCV</label><div class=\"sk-toggleable__content\"><pre>RandomizedSearchCV(cv=5,\n",
       "                   estimator=RandomForestRegressor(n_jobs=-1, random_state=42),\n",
       "                   n_iter=5,\n",
       "                   param_distributions={&#x27;max_depth&#x27;: [None, 3, 5, 10],\n",
       "                                        &#x27;max_features&#x27;: [0.5, 1, &#x27;sqrt&#x27;,\n",
       "                                                         &#x27;auto&#x27;],\n",
       "                                        &#x27;max_samples&#x27;: [10000],\n",
       "                                        &#x27;min_samples_leaf&#x27;: array([ 1,  3,  5,  7,  9, 11, 13, 15, 17, 19]),\n",
       "                                        &#x27;min_samples_split&#x27;: array([ 2,  4,  6,  8, 10, 12, 14, 16, 18]),\n",
       "                                        &#x27;n_estimators&#x27;: array([10, 20, 30, 40, 50, 60, 70, 80, 90])},\n",
       "                   verbose=True)</pre></div></div></div><div class=\"sk-parallel\"><div class=\"sk-parallel-item\"><div class=\"sk-item\"><div class=\"sk-label-container\"><div class=\"sk-label sk-toggleable\"><input class=\"sk-toggleable__control sk-hidden--visually\" id=\"sk-estimator-id-20\" type=\"checkbox\" ><label for=\"sk-estimator-id-20\" class=\"sk-toggleable__label sk-toggleable__label-arrow\">estimator: RandomForestRegressor</label><div class=\"sk-toggleable__content\"><pre>RandomForestRegressor(n_jobs=-1, random_state=42)</pre></div></div></div><div class=\"sk-serial\"><div class=\"sk-item\"><div class=\"sk-estimator sk-toggleable\"><input class=\"sk-toggleable__control sk-hidden--visually\" id=\"sk-estimator-id-21\" type=\"checkbox\" ><label for=\"sk-estimator-id-21\" class=\"sk-toggleable__label sk-toggleable__label-arrow\">RandomForestRegressor</label><div class=\"sk-toggleable__content\"><pre>RandomForestRegressor(n_jobs=-1, random_state=42)</pre></div></div></div></div></div></div></div></div></div></div>"
      ],
      "text/plain": [
       "RandomizedSearchCV(cv=5,\n",
       "                   estimator=RandomForestRegressor(n_jobs=-1, random_state=42),\n",
       "                   n_iter=5,\n",
       "                   param_distributions={'max_depth': [None, 3, 5, 10],\n",
       "                                        'max_features': [0.5, 1, 'sqrt',\n",
       "                                                         'auto'],\n",
       "                                        'max_samples': [10000],\n",
       "                                        'min_samples_leaf': array([ 1,  3,  5,  7,  9, 11, 13, 15, 17, 19]),\n",
       "                                        'min_samples_split': array([ 2,  4,  6,  8, 10, 12, 14, 16, 18]),\n",
       "                                        'n_estimators': array([10, 20, 30, 40, 50, 60, 70, 80, 90])},\n",
       "                   verbose=True)"
      ]
     },
     "execution_count": 210,
     "metadata": {},
     "output_type": "execute_result"
    }
   ],
   "source": [
    "## Hyperparameter tuning with RandomizedSearchCV\n",
    "from sklearn.model_selection import RandomizedSearchCV\n",
    "\n",
    "rf_grid = {\"n_estimators\": np.arange(10,100,10),\n",
    "          \"max_depth\": [None, 3, 5, 10],\n",
    "          \"min_samples_split\": np.arange(2,20,2),\n",
    "          \"min_samples_leaf\" : np.arange(1, 20, 2),\n",
    "          \"max_features\": [0.5, 1, \"sqrt\", \"auto\"],\n",
    "          \"max_samples\": [10000]}\n",
    "\n",
    "rs_model = RandomizedSearchCV(RandomForestRegressor(n_jobs=-1, random_state=42),\n",
    "                             param_distributions=rf_grid,\n",
    "                             n_iter=5,\n",
    "                              cv=5,\n",
    "                              verbose=True)\n",
    "\n",
    "rs_model.fit(x_train, y_train)"
   ]
  },
  {
   "cell_type": "code",
   "execution_count": 211,
   "id": "c187d310",
   "metadata": {},
   "outputs": [
    {
     "data": {
      "text/plain": [
       "{'n_estimators': 60,\n",
       " 'min_samples_split': 12,\n",
       " 'min_samples_leaf': 13,\n",
       " 'max_samples': 10000,\n",
       " 'max_features': 0.5,\n",
       " 'max_depth': None}"
      ]
     },
     "execution_count": 211,
     "metadata": {},
     "output_type": "execute_result"
    }
   ],
   "source": [
    "rs_model.best_params_"
   ]
  },
  {
   "cell_type": "code",
   "execution_count": 212,
   "id": "33d350d4",
   "metadata": {},
   "outputs": [
    {
     "data": {
      "text/plain": [
       "{'Training MAE': 6642.552971985559,\n",
       " 'Valid MAE': 24100.763975160346,\n",
       " 'Training RMSLE': 0.29803647946965717,\n",
       " 'Valid RMSLE': 0.9236218753775085,\n",
       " 'Training R^2': 0.8061936402473893,\n",
       " 'Valid R^2': -0.4829316046471399}"
      ]
     },
     "execution_count": 212,
     "metadata": {},
     "output_type": "execute_result"
    }
   ],
   "source": [
    "show_scores(rs_model)"
   ]
  },
  {
   "cell_type": "markdown",
   "id": "e24b89af",
   "metadata": {},
   "source": [
    "### Train a model with the best Hyperparameters\n",
    "Note: Found after *100* iterations of RandomizedSearchCV"
   ]
  },
  {
   "cell_type": "code",
   "execution_count": 370,
   "id": "d1ecd190",
   "metadata": {},
   "outputs": [
    {
     "data": {
      "text/html": [
       "<style>#sk-container-id-16 {color: black;}#sk-container-id-16 pre{padding: 0;}#sk-container-id-16 div.sk-toggleable {background-color: white;}#sk-container-id-16 label.sk-toggleable__label {cursor: pointer;display: block;width: 100%;margin-bottom: 0;padding: 0.3em;box-sizing: border-box;text-align: center;}#sk-container-id-16 label.sk-toggleable__label-arrow:before {content: \"▸\";float: left;margin-right: 0.25em;color: #696969;}#sk-container-id-16 label.sk-toggleable__label-arrow:hover:before {color: black;}#sk-container-id-16 div.sk-estimator:hover label.sk-toggleable__label-arrow:before {color: black;}#sk-container-id-16 div.sk-toggleable__content {max-height: 0;max-width: 0;overflow: hidden;text-align: left;background-color: #f0f8ff;}#sk-container-id-16 div.sk-toggleable__content pre {margin: 0.2em;color: black;border-radius: 0.25em;background-color: #f0f8ff;}#sk-container-id-16 input.sk-toggleable__control:checked~div.sk-toggleable__content {max-height: 200px;max-width: 100%;overflow: auto;}#sk-container-id-16 input.sk-toggleable__control:checked~label.sk-toggleable__label-arrow:before {content: \"▾\";}#sk-container-id-16 div.sk-estimator input.sk-toggleable__control:checked~label.sk-toggleable__label {background-color: #d4ebff;}#sk-container-id-16 div.sk-label input.sk-toggleable__control:checked~label.sk-toggleable__label {background-color: #d4ebff;}#sk-container-id-16 input.sk-hidden--visually {border: 0;clip: rect(1px 1px 1px 1px);clip: rect(1px, 1px, 1px, 1px);height: 1px;margin: -1px;overflow: hidden;padding: 0;position: absolute;width: 1px;}#sk-container-id-16 div.sk-estimator {font-family: monospace;background-color: #f0f8ff;border: 1px dotted black;border-radius: 0.25em;box-sizing: border-box;margin-bottom: 0.5em;}#sk-container-id-16 div.sk-estimator:hover {background-color: #d4ebff;}#sk-container-id-16 div.sk-parallel-item::after {content: \"\";width: 100%;border-bottom: 1px solid gray;flex-grow: 1;}#sk-container-id-16 div.sk-label:hover label.sk-toggleable__label {background-color: #d4ebff;}#sk-container-id-16 div.sk-serial::before {content: \"\";position: absolute;border-left: 1px solid gray;box-sizing: border-box;top: 0;bottom: 0;left: 50%;z-index: 0;}#sk-container-id-16 div.sk-serial {display: flex;flex-direction: column;align-items: center;background-color: white;padding-right: 0.2em;padding-left: 0.2em;position: relative;}#sk-container-id-16 div.sk-item {position: relative;z-index: 1;}#sk-container-id-16 div.sk-parallel {display: flex;align-items: stretch;justify-content: center;background-color: white;position: relative;}#sk-container-id-16 div.sk-item::before, #sk-container-id-16 div.sk-parallel-item::before {content: \"\";position: absolute;border-left: 1px solid gray;box-sizing: border-box;top: 0;bottom: 0;left: 50%;z-index: -1;}#sk-container-id-16 div.sk-parallel-item {display: flex;flex-direction: column;z-index: 1;position: relative;background-color: white;}#sk-container-id-16 div.sk-parallel-item:first-child::after {align-self: flex-end;width: 50%;}#sk-container-id-16 div.sk-parallel-item:last-child::after {align-self: flex-start;width: 50%;}#sk-container-id-16 div.sk-parallel-item:only-child::after {width: 0;}#sk-container-id-16 div.sk-dashed-wrapped {border: 1px dashed gray;margin: 0 0.4em 0.5em 0.4em;box-sizing: border-box;padding-bottom: 0.4em;background-color: white;}#sk-container-id-16 div.sk-label label {font-family: monospace;font-weight: bold;display: inline-block;line-height: 1.2em;}#sk-container-id-16 div.sk-label-container {text-align: center;}#sk-container-id-16 div.sk-container {/* jupyter's `normalize.less` sets `[hidden] { display: none; }` but bootstrap.min.css set `[hidden] { display: none !important; }` so we also need the `!important` here to be able to override the default hidden behavior on the sphinx rendered scikit-learn.org. See: https://github.com/scikit-learn/scikit-learn/issues/21755 */display: inline-block !important;position: relative;}#sk-container-id-16 div.sk-text-repr-fallback {display: none;}</style><div id=\"sk-container-id-16\" class=\"sk-top-container\"><div class=\"sk-text-repr-fallback\"><pre>RandomForestRegressor(max_features=0.5, max_samples=10000, min_samples_leaf=13,\n",
       "                      min_samples_split=12, n_estimators=60, random_state=42)</pre><b>In a Jupyter environment, please rerun this cell to show the HTML representation or trust the notebook. <br />On GitHub, the HTML representation is unable to render, please try loading this page with nbviewer.org.</b></div><div class=\"sk-container\" hidden><div class=\"sk-item\"><div class=\"sk-estimator sk-toggleable\"><input class=\"sk-toggleable__control sk-hidden--visually\" id=\"sk-estimator-id-24\" type=\"checkbox\" checked><label for=\"sk-estimator-id-24\" class=\"sk-toggleable__label sk-toggleable__label-arrow\">RandomForestRegressor</label><div class=\"sk-toggleable__content\"><pre>RandomForestRegressor(max_features=0.5, max_samples=10000, min_samples_leaf=13,\n",
       "                      min_samples_split=12, n_estimators=60, random_state=42)</pre></div></div></div></div></div>"
      ],
      "text/plain": [
       "RandomForestRegressor(max_features=0.5, max_samples=10000, min_samples_leaf=13,\n",
       "                      min_samples_split=12, n_estimators=60, random_state=42)"
      ]
     },
     "execution_count": 370,
     "metadata": {},
     "output_type": "execute_result"
    }
   ],
   "source": [
    "ideal_model = RandomForestRegressor(n_estimators= 60,\n",
    " min_samples_split= 12,\n",
    " min_samples_leaf= 13,\n",
    " max_samples= 10000,\n",
    " max_features= 0.5,\n",
    " max_depth= None,\n",
    "                                   random_state=42)\n",
    "\n",
    "ideal_model.fit(x_train,y_train)"
   ]
  },
  {
   "cell_type": "code",
   "execution_count": 216,
   "id": "4ff92f0a",
   "metadata": {},
   "outputs": [
    {
     "data": {
      "text/plain": [
       "{'Training MAE': 6642.552971985559,\n",
       " 'Valid MAE': 24100.763975160346,\n",
       " 'Training RMSLE': 0.29803647946965717,\n",
       " 'Valid RMSLE': 0.9236218753775085,\n",
       " 'Training R^2': 0.8061936402473893,\n",
       " 'Valid R^2': -0.4829316046471397}"
      ]
     },
     "execution_count": 216,
     "metadata": {},
     "output_type": "execute_result"
    }
   ],
   "source": [
    "show_scores(ideal_model)"
   ]
  },
  {
   "cell_type": "code",
   "execution_count": 217,
   "id": "6ab49436",
   "metadata": {},
   "outputs": [
    {
     "data": {
      "text/plain": [
       "{'Training MAE': 6642.552971985559,\n",
       " 'Valid MAE': 24100.763975160346,\n",
       " 'Training RMSLE': 0.29803647946965717,\n",
       " 'Valid RMSLE': 0.9236218753775085,\n",
       " 'Training R^2': 0.8061936402473893,\n",
       " 'Valid R^2': -0.4829316046471397}"
      ]
     },
     "execution_count": 217,
     "metadata": {},
     "output_type": "execute_result"
    }
   ],
   "source": [
    "show_scores(rs_model)"
   ]
  },
  {
   "cell_type": "markdown",
   "id": "5015906f",
   "metadata": {},
   "source": [
    "## Make Predictions on data"
   ]
  },
  {
   "cell_type": "code",
   "execution_count": 518,
   "id": "31fc9541",
   "metadata": {},
   "outputs": [
    {
     "data": {
      "text/html": [
       "<div>\n",
       "<style scoped>\n",
       "    .dataframe tbody tr th:only-of-type {\n",
       "        vertical-align: middle;\n",
       "    }\n",
       "\n",
       "    .dataframe tbody tr th {\n",
       "        vertical-align: top;\n",
       "    }\n",
       "\n",
       "    .dataframe thead th {\n",
       "        text-align: right;\n",
       "    }\n",
       "</style>\n",
       "<table border=\"1\" class=\"dataframe\">\n",
       "  <thead>\n",
       "    <tr style=\"text-align: right;\">\n",
       "      <th></th>\n",
       "      <th>SalesID</th>\n",
       "      <th>MachineID</th>\n",
       "      <th>ModelID</th>\n",
       "      <th>datasource</th>\n",
       "      <th>auctioneerID</th>\n",
       "      <th>YearMade</th>\n",
       "      <th>MachineHoursCurrentMeter</th>\n",
       "      <th>UsageBand</th>\n",
       "      <th>saledate</th>\n",
       "      <th>fiModelDesc</th>\n",
       "      <th>...</th>\n",
       "      <th>Undercarriage_Pad_Width</th>\n",
       "      <th>Stick_Length</th>\n",
       "      <th>Thumb</th>\n",
       "      <th>Pattern_Changer</th>\n",
       "      <th>Grouser_Type</th>\n",
       "      <th>Backhoe_Mounting</th>\n",
       "      <th>Blade_Type</th>\n",
       "      <th>Travel_Controls</th>\n",
       "      <th>Differential_Type</th>\n",
       "      <th>Steering_Controls</th>\n",
       "    </tr>\n",
       "  </thead>\n",
       "  <tbody>\n",
       "    <tr>\n",
       "      <th>0</th>\n",
       "      <td>1227829</td>\n",
       "      <td>1006309</td>\n",
       "      <td>3168</td>\n",
       "      <td>121</td>\n",
       "      <td>3</td>\n",
       "      <td>1999</td>\n",
       "      <td>3688.0</td>\n",
       "      <td>Low</td>\n",
       "      <td>2012-05-03</td>\n",
       "      <td>580G</td>\n",
       "      <td>...</td>\n",
       "      <td>NaN</td>\n",
       "      <td>NaN</td>\n",
       "      <td>NaN</td>\n",
       "      <td>NaN</td>\n",
       "      <td>NaN</td>\n",
       "      <td>NaN</td>\n",
       "      <td>NaN</td>\n",
       "      <td>NaN</td>\n",
       "      <td>NaN</td>\n",
       "      <td>NaN</td>\n",
       "    </tr>\n",
       "    <tr>\n",
       "      <th>1</th>\n",
       "      <td>1227844</td>\n",
       "      <td>1022817</td>\n",
       "      <td>7271</td>\n",
       "      <td>121</td>\n",
       "      <td>3</td>\n",
       "      <td>1000</td>\n",
       "      <td>28555.0</td>\n",
       "      <td>High</td>\n",
       "      <td>2012-05-10</td>\n",
       "      <td>936</td>\n",
       "      <td>...</td>\n",
       "      <td>NaN</td>\n",
       "      <td>NaN</td>\n",
       "      <td>NaN</td>\n",
       "      <td>NaN</td>\n",
       "      <td>NaN</td>\n",
       "      <td>NaN</td>\n",
       "      <td>NaN</td>\n",
       "      <td>NaN</td>\n",
       "      <td>Standard</td>\n",
       "      <td>Conventional</td>\n",
       "    </tr>\n",
       "    <tr>\n",
       "      <th>2</th>\n",
       "      <td>1227847</td>\n",
       "      <td>1031560</td>\n",
       "      <td>22805</td>\n",
       "      <td>121</td>\n",
       "      <td>3</td>\n",
       "      <td>2004</td>\n",
       "      <td>6038.0</td>\n",
       "      <td>Medium</td>\n",
       "      <td>2012-05-10</td>\n",
       "      <td>EC210BLC</td>\n",
       "      <td>...</td>\n",
       "      <td>None or Unspecified</td>\n",
       "      <td>9' 6\"</td>\n",
       "      <td>Manual</td>\n",
       "      <td>None or Unspecified</td>\n",
       "      <td>Double</td>\n",
       "      <td>NaN</td>\n",
       "      <td>NaN</td>\n",
       "      <td>NaN</td>\n",
       "      <td>NaN</td>\n",
       "      <td>NaN</td>\n",
       "    </tr>\n",
       "    <tr>\n",
       "      <th>3</th>\n",
       "      <td>1227848</td>\n",
       "      <td>56204</td>\n",
       "      <td>1269</td>\n",
       "      <td>121</td>\n",
       "      <td>3</td>\n",
       "      <td>2006</td>\n",
       "      <td>8940.0</td>\n",
       "      <td>High</td>\n",
       "      <td>2012-05-10</td>\n",
       "      <td>330CL</td>\n",
       "      <td>...</td>\n",
       "      <td>None or Unspecified</td>\n",
       "      <td>None or Unspecified</td>\n",
       "      <td>Manual</td>\n",
       "      <td>Yes</td>\n",
       "      <td>Triple</td>\n",
       "      <td>NaN</td>\n",
       "      <td>NaN</td>\n",
       "      <td>NaN</td>\n",
       "      <td>NaN</td>\n",
       "      <td>NaN</td>\n",
       "    </tr>\n",
       "    <tr>\n",
       "      <th>4</th>\n",
       "      <td>1227863</td>\n",
       "      <td>1053887</td>\n",
       "      <td>22312</td>\n",
       "      <td>121</td>\n",
       "      <td>3</td>\n",
       "      <td>2005</td>\n",
       "      <td>2286.0</td>\n",
       "      <td>Low</td>\n",
       "      <td>2012-05-10</td>\n",
       "      <td>650K</td>\n",
       "      <td>...</td>\n",
       "      <td>NaN</td>\n",
       "      <td>NaN</td>\n",
       "      <td>NaN</td>\n",
       "      <td>NaN</td>\n",
       "      <td>NaN</td>\n",
       "      <td>None or Unspecified</td>\n",
       "      <td>PAT</td>\n",
       "      <td>None or Unspecified</td>\n",
       "      <td>NaN</td>\n",
       "      <td>NaN</td>\n",
       "    </tr>\n",
       "  </tbody>\n",
       "</table>\n",
       "<p>5 rows × 52 columns</p>\n",
       "</div>"
      ],
      "text/plain": [
       "   SalesID  MachineID  ModelID  datasource  auctioneerID  YearMade  \\\n",
       "0  1227829    1006309     3168         121             3      1999   \n",
       "1  1227844    1022817     7271         121             3      1000   \n",
       "2  1227847    1031560    22805         121             3      2004   \n",
       "3  1227848      56204     1269         121             3      2006   \n",
       "4  1227863    1053887    22312         121             3      2005   \n",
       "\n",
       "   MachineHoursCurrentMeter UsageBand   saledate fiModelDesc  ...  \\\n",
       "0                    3688.0       Low 2012-05-03        580G  ...   \n",
       "1                   28555.0      High 2012-05-10         936  ...   \n",
       "2                    6038.0    Medium 2012-05-10    EC210BLC  ...   \n",
       "3                    8940.0      High 2012-05-10       330CL  ...   \n",
       "4                    2286.0       Low 2012-05-10        650K  ...   \n",
       "\n",
       "  Undercarriage_Pad_Width         Stick_Length   Thumb      Pattern_Changer  \\\n",
       "0                     NaN                  NaN     NaN                  NaN   \n",
       "1                     NaN                  NaN     NaN                  NaN   \n",
       "2     None or Unspecified                9' 6\"  Manual  None or Unspecified   \n",
       "3     None or Unspecified  None or Unspecified  Manual                  Yes   \n",
       "4                     NaN                  NaN     NaN                  NaN   \n",
       "\n",
       "  Grouser_Type     Backhoe_Mounting Blade_Type      Travel_Controls  \\\n",
       "0          NaN                  NaN        NaN                  NaN   \n",
       "1          NaN                  NaN        NaN                  NaN   \n",
       "2       Double                  NaN        NaN                  NaN   \n",
       "3       Triple                  NaN        NaN                  NaN   \n",
       "4          NaN  None or Unspecified        PAT  None or Unspecified   \n",
       "\n",
       "  Differential_Type Steering_Controls  \n",
       "0               NaN               NaN  \n",
       "1          Standard      Conventional  \n",
       "2               NaN               NaN  \n",
       "3               NaN               NaN  \n",
       "4               NaN               NaN  \n",
       "\n",
       "[5 rows x 52 columns]"
      ]
     },
     "execution_count": 518,
     "metadata": {},
     "output_type": "execute_result"
    }
   ],
   "source": [
    "df_test = pd.read_csv(\"data/bluebook-for-bulldozers/Test.csv\",\n",
    "                      low_memory=False,\n",
    "                      parse_dates=[\"saledate\"])\n",
    "df_test.head()"
   ]
  },
  {
   "cell_type": "code",
   "execution_count": 519,
   "id": "dad3ef41",
   "metadata": {},
   "outputs": [
    {
     "data": {
      "text/plain": [
       "1408    2012-05-01\n",
       "1023    2012-05-01\n",
       "1728    2012-05-01\n",
       "1167    2012-05-01\n",
       "1594    2012-05-01\n",
       "           ...    \n",
       "9941    2012-11-15\n",
       "9936    2012-11-15\n",
       "11620   2012-11-15\n",
       "9995    2012-11-15\n",
       "9803    2012-11-16\n",
       "Name: saledate, Length: 12457, dtype: datetime64[ns]"
      ]
     },
     "execution_count": 519,
     "metadata": {},
     "output_type": "execute_result"
    }
   ],
   "source": [
    "df_test.sort_values([\"saledate\"], inplace=True, ascending=True)\n",
    "df_test[\"saledate\"]"
   ]
  },
  {
   "cell_type": "code",
   "execution_count": 520,
   "id": "71ff1843",
   "metadata": {},
   "outputs": [],
   "source": [
    "def preprocess_data(df):\n",
    "    \"\"\"\n",
    "    Performs transformations on df and returns transformed df.\n",
    "    \"\"\"\n",
    "    df[\"saleYear\"] = df.saledate.dt.year\n",
    "    df[\"saleMonth\"] = df.saledate.dt.month\n",
    "    df[\"saleDay\"] = df.saledate.dt.day\n",
    "    df[\"saleDayOfWeek\"] = df.saledate.dt.day_of_week\n",
    "    df[\"saleDayOfYear\"] = df.saledate.dt.day_of_year\n",
    "    df = df.drop([\"saledate\"], axis=1)\n",
    "    \n",
    "    # Fill the numeric rows with median\n",
    "    for label, content in df.items():\n",
    "        if pd.api.types.is_numeric_dtype(content):\n",
    "            if pd.isnull(content).sum():\n",
    "                # Add a binary column which tells us if the data was missing or not\n",
    "                df[label+\"_is_missing\"] = pd.isnull(content)\n",
    "                # Fill missing numeric values with median\n",
    "                df[label] = content.fillna(content.median())\n",
    "    \n",
    "        # Filled categorical missing data and turn categories into numbers\n",
    "        if not pd.api.types.is_numeric_dtype(content):\n",
    "            df[label+\"_is_missing\"] = pd.isnull(content)\n",
    "            # We add +1 to the category code because pandas encodes missing categories as -1\n",
    "            df[label] = pd.Categorical(content).codes+1\n",
    "    \n",
    "    return df"
   ]
  },
  {
   "cell_type": "code",
   "execution_count": 521,
   "id": "97db1f93",
   "metadata": {},
   "outputs": [
    {
     "data": {
      "text/html": [
       "<div>\n",
       "<style scoped>\n",
       "    .dataframe tbody tr th:only-of-type {\n",
       "        vertical-align: middle;\n",
       "    }\n",
       "\n",
       "    .dataframe tbody tr th {\n",
       "        vertical-align: top;\n",
       "    }\n",
       "\n",
       "    .dataframe thead th {\n",
       "        text-align: right;\n",
       "    }\n",
       "</style>\n",
       "<table border=\"1\" class=\"dataframe\">\n",
       "  <thead>\n",
       "    <tr style=\"text-align: right;\">\n",
       "      <th></th>\n",
       "      <th>SalesID</th>\n",
       "      <th>MachineID</th>\n",
       "      <th>ModelID</th>\n",
       "      <th>datasource</th>\n",
       "      <th>auctioneerID</th>\n",
       "      <th>YearMade</th>\n",
       "      <th>MachineHoursCurrentMeter</th>\n",
       "      <th>UsageBand</th>\n",
       "      <th>fiModelDesc</th>\n",
       "      <th>fiBaseModel</th>\n",
       "      <th>...</th>\n",
       "      <th>Undercarriage_Pad_Width_is_missing</th>\n",
       "      <th>Stick_Length_is_missing</th>\n",
       "      <th>Thumb_is_missing</th>\n",
       "      <th>Pattern_Changer_is_missing</th>\n",
       "      <th>Grouser_Type_is_missing</th>\n",
       "      <th>Backhoe_Mounting_is_missing</th>\n",
       "      <th>Blade_Type_is_missing</th>\n",
       "      <th>Travel_Controls_is_missing</th>\n",
       "      <th>Differential_Type_is_missing</th>\n",
       "      <th>Steering_Controls_is_missing</th>\n",
       "    </tr>\n",
       "  </thead>\n",
       "  <tbody>\n",
       "    <tr>\n",
       "      <th>1408</th>\n",
       "      <td>4317459</td>\n",
       "      <td>2295526</td>\n",
       "      <td>8132</td>\n",
       "      <td>172</td>\n",
       "      <td>1</td>\n",
       "      <td>1998</td>\n",
       "      <td>4359.0</td>\n",
       "      <td>3</td>\n",
       "      <td>397</td>\n",
       "      <td>148</td>\n",
       "      <td>...</td>\n",
       "      <td>True</td>\n",
       "      <td>True</td>\n",
       "      <td>True</td>\n",
       "      <td>True</td>\n",
       "      <td>True</td>\n",
       "      <td>True</td>\n",
       "      <td>True</td>\n",
       "      <td>True</td>\n",
       "      <td>True</td>\n",
       "      <td>True</td>\n",
       "    </tr>\n",
       "    <tr>\n",
       "      <th>1023</th>\n",
       "      <td>4249784</td>\n",
       "      <td>1745722</td>\n",
       "      <td>3178</td>\n",
       "      <td>172</td>\n",
       "      <td>1</td>\n",
       "      <td>1995</td>\n",
       "      <td>4489.0</td>\n",
       "      <td>2</td>\n",
       "      <td>509</td>\n",
       "      <td>180</td>\n",
       "      <td>...</td>\n",
       "      <td>True</td>\n",
       "      <td>True</td>\n",
       "      <td>True</td>\n",
       "      <td>True</td>\n",
       "      <td>True</td>\n",
       "      <td>True</td>\n",
       "      <td>True</td>\n",
       "      <td>True</td>\n",
       "      <td>True</td>\n",
       "      <td>True</td>\n",
       "    </tr>\n",
       "    <tr>\n",
       "      <th>1728</th>\n",
       "      <td>4392603</td>\n",
       "      <td>2283116</td>\n",
       "      <td>18111</td>\n",
       "      <td>172</td>\n",
       "      <td>1</td>\n",
       "      <td>2004</td>\n",
       "      <td>2126.0</td>\n",
       "      <td>2</td>\n",
       "      <td>906</td>\n",
       "      <td>320</td>\n",
       "      <td>...</td>\n",
       "      <td>True</td>\n",
       "      <td>True</td>\n",
       "      <td>True</td>\n",
       "      <td>True</td>\n",
       "      <td>True</td>\n",
       "      <td>True</td>\n",
       "      <td>True</td>\n",
       "      <td>True</td>\n",
       "      <td>True</td>\n",
       "      <td>True</td>\n",
       "    </tr>\n",
       "    <tr>\n",
       "      <th>1167</th>\n",
       "      <td>4274831</td>\n",
       "      <td>2288988</td>\n",
       "      <td>3783</td>\n",
       "      <td>172</td>\n",
       "      <td>1</td>\n",
       "      <td>2001</td>\n",
       "      <td>9115.0</td>\n",
       "      <td>3</td>\n",
       "      <td>824</td>\n",
       "      <td>290</td>\n",
       "      <td>...</td>\n",
       "      <td>True</td>\n",
       "      <td>True</td>\n",
       "      <td>True</td>\n",
       "      <td>True</td>\n",
       "      <td>True</td>\n",
       "      <td>True</td>\n",
       "      <td>True</td>\n",
       "      <td>True</td>\n",
       "      <td>False</td>\n",
       "      <td>False</td>\n",
       "    </tr>\n",
       "    <tr>\n",
       "      <th>1594</th>\n",
       "      <td>4362801</td>\n",
       "      <td>2300591</td>\n",
       "      <td>16490</td>\n",
       "      <td>172</td>\n",
       "      <td>1</td>\n",
       "      <td>2006</td>\n",
       "      <td>885.0</td>\n",
       "      <td>2</td>\n",
       "      <td>1513</td>\n",
       "      <td>610</td>\n",
       "      <td>...</td>\n",
       "      <td>False</td>\n",
       "      <td>False</td>\n",
       "      <td>False</td>\n",
       "      <td>False</td>\n",
       "      <td>False</td>\n",
       "      <td>True</td>\n",
       "      <td>True</td>\n",
       "      <td>True</td>\n",
       "      <td>True</td>\n",
       "      <td>True</td>\n",
       "    </tr>\n",
       "  </tbody>\n",
       "</table>\n",
       "<p>5 rows × 101 columns</p>\n",
       "</div>"
      ],
      "text/plain": [
       "      SalesID  MachineID  ModelID  datasource  auctioneerID  YearMade  \\\n",
       "1408  4317459    2295526     8132         172             1      1998   \n",
       "1023  4249784    1745722     3178         172             1      1995   \n",
       "1728  4392603    2283116    18111         172             1      2004   \n",
       "1167  4274831    2288988     3783         172             1      2001   \n",
       "1594  4362801    2300591    16490         172             1      2006   \n",
       "\n",
       "      MachineHoursCurrentMeter  UsageBand  fiModelDesc  fiBaseModel  ...  \\\n",
       "1408                    4359.0          3          397          148  ...   \n",
       "1023                    4489.0          2          509          180  ...   \n",
       "1728                    2126.0          2          906          320  ...   \n",
       "1167                    9115.0          3          824          290  ...   \n",
       "1594                     885.0          2         1513          610  ...   \n",
       "\n",
       "      Undercarriage_Pad_Width_is_missing  Stick_Length_is_missing  \\\n",
       "1408                                True                     True   \n",
       "1023                                True                     True   \n",
       "1728                                True                     True   \n",
       "1167                                True                     True   \n",
       "1594                               False                    False   \n",
       "\n",
       "      Thumb_is_missing  Pattern_Changer_is_missing  Grouser_Type_is_missing  \\\n",
       "1408              True                        True                     True   \n",
       "1023              True                        True                     True   \n",
       "1728              True                        True                     True   \n",
       "1167              True                        True                     True   \n",
       "1594             False                       False                    False   \n",
       "\n",
       "      Backhoe_Mounting_is_missing  Blade_Type_is_missing  \\\n",
       "1408                         True                   True   \n",
       "1023                         True                   True   \n",
       "1728                         True                   True   \n",
       "1167                         True                   True   \n",
       "1594                         True                   True   \n",
       "\n",
       "      Travel_Controls_is_missing  Differential_Type_is_missing  \\\n",
       "1408                        True                          True   \n",
       "1023                        True                          True   \n",
       "1728                        True                          True   \n",
       "1167                        True                         False   \n",
       "1594                        True                          True   \n",
       "\n",
       "      Steering_Controls_is_missing  \n",
       "1408                          True  \n",
       "1023                          True  \n",
       "1728                          True  \n",
       "1167                         False  \n",
       "1594                          True  \n",
       "\n",
       "[5 rows x 101 columns]"
      ]
     },
     "execution_count": 521,
     "metadata": {},
     "output_type": "execute_result"
    }
   ],
   "source": [
    "# Process the test data \n",
    "df_test = preprocess_data(df_test)\n",
    "df_test.head()"
   ]
  },
  {
   "cell_type": "code",
   "execution_count": 522,
   "id": "e3522a4a",
   "metadata": {},
   "outputs": [
    {
     "data": {
      "text/plain": [
       "{'saleDayOfWeek', 'saleDayOfYear'}"
      ]
     },
     "execution_count": 522,
     "metadata": {},
     "output_type": "execute_result"
    }
   ],
   "source": [
    "set(df_test.columns)-set(x_train.columns)"
   ]
  },
  {
   "cell_type": "code",
   "execution_count": 523,
   "id": "70de3a6b",
   "metadata": {},
   "outputs": [
    {
     "data": {
      "text/plain": [
       "1408     1\n",
       "1023     1\n",
       "1728     1\n",
       "1167     1\n",
       "1594     1\n",
       "        ..\n",
       "9941     3\n",
       "9936     3\n",
       "11620    3\n",
       "9995     3\n",
       "9803     4\n",
       "Name: saleDayOfWeek, Length: 12457, dtype: int64"
      ]
     },
     "execution_count": 523,
     "metadata": {},
     "output_type": "execute_result"
    }
   ],
   "source": [
    "df_test.saleDayOfWeek"
   ]
  },
  {
   "cell_type": "code",
   "execution_count": 524,
   "id": "31a7f7d9",
   "metadata": {},
   "outputs": [
    {
     "data": {
      "text/plain": [
       "205615    1\n",
       "92803     1\n",
       "98346     1\n",
       "169297    1\n",
       "274835    1\n",
       "         ..\n",
       "393123    4\n",
       "397987    4\n",
       "392664    4\n",
       "400458    4\n",
       "400217    4\n",
       "Name: saleDayofWeek, Length: 401125, dtype: int64"
      ]
     },
     "execution_count": 524,
     "metadata": {},
     "output_type": "execute_result"
    }
   ],
   "source": [
    "x_train.saleDayofWeek"
   ]
  },
  {
   "cell_type": "code",
   "execution_count": 525,
   "id": "28cbd8bc",
   "metadata": {},
   "outputs": [
    {
     "data": {
      "text/plain": [
       "bool       45\n",
       "int8       40\n",
       "int64      10\n",
       "int16       4\n",
       "float64     2\n",
       "dtype: int64"
      ]
     },
     "execution_count": 525,
     "metadata": {},
     "output_type": "execute_result"
    }
   ],
   "source": [
    "x_train.dtypes.value_counts()"
   ]
  },
  {
   "cell_type": "code",
   "execution_count": 526,
   "id": "9b997a29",
   "metadata": {},
   "outputs": [
    {
     "data": {
      "text/plain": [
       "bool       45\n",
       "int8       42\n",
       "int64      11\n",
       "int16       2\n",
       "float64     1\n",
       "dtype: int64"
      ]
     },
     "execution_count": 526,
     "metadata": {},
     "output_type": "execute_result"
    }
   ],
   "source": [
    "df_test.dtypes.value_counts()"
   ]
  },
  {
   "cell_type": "code",
   "execution_count": 527,
   "id": "0d08a018",
   "metadata": {},
   "outputs": [
    {
     "data": {
      "text/plain": [
       "{'bool': ['MachineHoursCurrentMeter_is_missing',\n",
       "  'UsageBand_is_missing',\n",
       "  'fiModelDesc_is_missing',\n",
       "  'fiBaseModel_is_missing',\n",
       "  'fiSecondaryDesc_is_missing',\n",
       "  'fiModelSeries_is_missing',\n",
       "  'fiModelDescriptor_is_missing',\n",
       "  'ProductSize_is_missing',\n",
       "  'fiProductClassDesc_is_missing',\n",
       "  'state_is_missing',\n",
       "  'ProductGroup_is_missing',\n",
       "  'ProductGroupDesc_is_missing',\n",
       "  'Drive_System_is_missing',\n",
       "  'Enclosure_is_missing',\n",
       "  'Forks_is_missing',\n",
       "  'Pad_Type_is_missing',\n",
       "  'Ride_Control_is_missing',\n",
       "  'Stick_is_missing',\n",
       "  'Transmission_is_missing',\n",
       "  'Turbocharged_is_missing',\n",
       "  'Blade_Extension_is_missing',\n",
       "  'Blade_Width_is_missing',\n",
       "  'Enclosure_Type_is_missing',\n",
       "  'Engine_Horsepower_is_missing',\n",
       "  'Hydraulics_is_missing',\n",
       "  'Pushblock_is_missing',\n",
       "  'Ripper_is_missing',\n",
       "  'Scarifier_is_missing',\n",
       "  'Tip_Control_is_missing',\n",
       "  'Tire_Size_is_missing',\n",
       "  'Coupler_is_missing',\n",
       "  'Coupler_System_is_missing',\n",
       "  'Grouser_Tracks_is_missing',\n",
       "  'Hydraulics_Flow_is_missing',\n",
       "  'Track_Type_is_missing',\n",
       "  'Undercarriage_Pad_Width_is_missing',\n",
       "  'Stick_Length_is_missing',\n",
       "  'Thumb_is_missing',\n",
       "  'Pattern_Changer_is_missing',\n",
       "  'Grouser_Type_is_missing',\n",
       "  'Backhoe_Mounting_is_missing',\n",
       "  'Blade_Type_is_missing',\n",
       "  'Travel_Controls_is_missing',\n",
       "  'Differential_Type_is_missing',\n",
       "  'Steering_Controls_is_missing'],\n",
       " 'int8': ['UsageBand',\n",
       "  'fiSecondaryDesc',\n",
       "  'fiModelSeries',\n",
       "  'fiModelDescriptor',\n",
       "  'ProductSize',\n",
       "  'fiProductClassDesc',\n",
       "  'state',\n",
       "  'ProductGroup',\n",
       "  'ProductGroupDesc',\n",
       "  'Drive_System',\n",
       "  'Enclosure',\n",
       "  'Forks',\n",
       "  'Pad_Type',\n",
       "  'Ride_Control',\n",
       "  'Stick',\n",
       "  'Transmission',\n",
       "  'Turbocharged',\n",
       "  'Blade_Extension',\n",
       "  'Blade_Width',\n",
       "  'Enclosure_Type',\n",
       "  'Engine_Horsepower',\n",
       "  'Hydraulics',\n",
       "  'Pushblock',\n",
       "  'Ripper',\n",
       "  'Scarifier',\n",
       "  'Tip_Control',\n",
       "  'Tire_Size',\n",
       "  'Coupler',\n",
       "  'Coupler_System',\n",
       "  'Grouser_Tracks',\n",
       "  'Hydraulics_Flow',\n",
       "  'Track_Type',\n",
       "  'Undercarriage_Pad_Width',\n",
       "  'Stick_Length',\n",
       "  'Thumb',\n",
       "  'Pattern_Changer',\n",
       "  'Grouser_Type',\n",
       "  'Backhoe_Mounting',\n",
       "  'Blade_Type',\n",
       "  'Travel_Controls',\n",
       "  'Differential_Type',\n",
       "  'Steering_Controls'],\n",
       " 'int16': ['fiModelDesc', 'fiBaseModel'],\n",
       " 'int64': ['SalesID',\n",
       "  'MachineID',\n",
       "  'ModelID',\n",
       "  'datasource',\n",
       "  'auctioneerID',\n",
       "  'YearMade',\n",
       "  'saleYear',\n",
       "  'saleMonth',\n",
       "  'saleDay',\n",
       "  'saleDayOfWeek',\n",
       "  'saleDayOfYear'],\n",
       " 'float64': ['MachineHoursCurrentMeter']}"
      ]
     },
     "execution_count": 527,
     "metadata": {},
     "output_type": "execute_result"
    }
   ],
   "source": [
    "type_dct = {str(k): list(v) for k, v in df_test.groupby(df_test.dtypes, axis=1)}\n",
    "type_dct"
   ]
  },
  {
   "cell_type": "code",
   "execution_count": 528,
   "id": "6f5edeb2",
   "metadata": {},
   "outputs": [
    {
     "data": {
      "text/plain": [
       "{'bool': ['MachineHoursCurrentMeter_is_missing',\n",
       "  'UsageBand_is_missing',\n",
       "  'fiModelDesc_is_missing',\n",
       "  'fiBaseModel_is_missing',\n",
       "  'fiSecondaryDesc_is_missing',\n",
       "  'fiModelSeries_is_missing',\n",
       "  'fiModelDescriptor_is_missing',\n",
       "  'ProductSize_is_missing',\n",
       "  'fiProductClassDesc_is_missing',\n",
       "  'state_is_missing',\n",
       "  'ProductGroup_is_missing',\n",
       "  'ProductGroupDesc_is_missing',\n",
       "  'Drive_System_is_missing',\n",
       "  'Enclosure_is_missing',\n",
       "  'Forks_is_missing',\n",
       "  'Pad_Type_is_missing',\n",
       "  'Ride_Control_is_missing',\n",
       "  'Stick_is_missing',\n",
       "  'Transmission_is_missing',\n",
       "  'Turbocharged_is_missing',\n",
       "  'Blade_Extension_is_missing',\n",
       "  'Blade_Width_is_missing',\n",
       "  'Enclosure_Type_is_missing',\n",
       "  'Engine_Horsepower_is_missing',\n",
       "  'Hydraulics_is_missing',\n",
       "  'Pushblock_is_missing',\n",
       "  'Ripper_is_missing',\n",
       "  'Scarifier_is_missing',\n",
       "  'Tip_Control_is_missing',\n",
       "  'Tire_Size_is_missing',\n",
       "  'Coupler_is_missing',\n",
       "  'Coupler_System_is_missing',\n",
       "  'Grouser_Tracks_is_missing',\n",
       "  'Hydraulics_Flow_is_missing',\n",
       "  'Track_Type_is_missing',\n",
       "  'Undercarriage_Pad_Width_is_missing',\n",
       "  'Stick_Length_is_missing',\n",
       "  'Thumb_is_missing',\n",
       "  'Pattern_Changer_is_missing',\n",
       "  'Grouser_Type_is_missing',\n",
       "  'Backhoe_Mounting_is_missing',\n",
       "  'Blade_Type_is_missing',\n",
       "  'Travel_Controls_is_missing',\n",
       "  'Differential_Type_is_missing',\n",
       "  'Steering_Controls_is_missing'],\n",
       " 'int8': ['UsageBand',\n",
       "  'fiModelSeries',\n",
       "  'ProductSize',\n",
       "  'fiProductClassDesc',\n",
       "  'state',\n",
       "  'ProductGroup',\n",
       "  'ProductGroupDesc',\n",
       "  'Drive_System',\n",
       "  'Enclosure',\n",
       "  'Forks',\n",
       "  'Pad_Type',\n",
       "  'Ride_Control',\n",
       "  'Stick',\n",
       "  'Transmission',\n",
       "  'Turbocharged',\n",
       "  'Blade_Extension',\n",
       "  'Blade_Width',\n",
       "  'Enclosure_Type',\n",
       "  'Engine_Horsepower',\n",
       "  'Hydraulics',\n",
       "  'Pushblock',\n",
       "  'Ripper',\n",
       "  'Scarifier',\n",
       "  'Tip_Control',\n",
       "  'Tire_Size',\n",
       "  'Coupler',\n",
       "  'Coupler_System',\n",
       "  'Grouser_Tracks',\n",
       "  'Hydraulics_Flow',\n",
       "  'Track_Type',\n",
       "  'Undercarriage_Pad_Width',\n",
       "  'Stick_Length',\n",
       "  'Thumb',\n",
       "  'Pattern_Changer',\n",
       "  'Grouser_Type',\n",
       "  'Backhoe_Mounting',\n",
       "  'Blade_Type',\n",
       "  'Travel_Controls',\n",
       "  'Differential_Type',\n",
       "  'Steering_Controls'],\n",
       " 'int16': ['fiModelDesc',\n",
       "  'fiBaseModel',\n",
       "  'fiSecondaryDesc',\n",
       "  'fiModelDescriptor'],\n",
       " 'int64': ['SalesID',\n",
       "  'MachineID',\n",
       "  'ModelID',\n",
       "  'datasource',\n",
       "  'YearMade',\n",
       "  'saleYear',\n",
       "  'saleMonth',\n",
       "  'saleDay',\n",
       "  'saleDayofWeek',\n",
       "  'saleDayofYear'],\n",
       " 'float64': ['auctioneerID', 'MachineHoursCurrentMeter']}"
      ]
     },
     "execution_count": 528,
     "metadata": {},
     "output_type": "execute_result"
    }
   ],
   "source": [
    "type_dc = {str(k): list(v) for k, v in x_train.groupby(x_train.dtypes, axis=1)}\n",
    "type_dc"
   ]
  },
  {
   "cell_type": "code",
   "execution_count": 529,
   "id": "07937b55",
   "metadata": {},
   "outputs": [
    {
     "data": {
      "text/plain": [
       "{'fiModelDescriptor', 'fiSecondaryDesc'}"
      ]
     },
     "execution_count": 529,
     "metadata": {},
     "output_type": "execute_result"
    }
   ],
   "source": [
    "set(type_dct[\"int8\"])-set(type_dc[\"int8\"])"
   ]
  },
  {
   "cell_type": "code",
   "execution_count": 530,
   "id": "ecde5aeb",
   "metadata": {},
   "outputs": [
    {
     "data": {
      "text/plain": [
       "{'auctioneerID', 'saleDayOfWeek', 'saleDayOfYear'}"
      ]
     },
     "execution_count": 530,
     "metadata": {},
     "output_type": "execute_result"
    }
   ],
   "source": [
    "set(type_dct[\"int64\"])-set(type_dc[\"int64\"])"
   ]
  },
  {
   "cell_type": "code",
   "execution_count": 531,
   "id": "cb713451",
   "metadata": {},
   "outputs": [
    {
     "data": {
      "text/plain": [
       "{'fiModelDescriptor', 'fiSecondaryDesc'}"
      ]
     },
     "execution_count": 531,
     "metadata": {},
     "output_type": "execute_result"
    }
   ],
   "source": [
    "set(type_dc[\"int16\"])-set(type_dct[\"int16\"])"
   ]
  },
  {
   "cell_type": "code",
   "execution_count": 532,
   "id": "c03f092d",
   "metadata": {},
   "outputs": [
    {
     "data": {
      "text/plain": [
       "{'auctioneerID'}"
      ]
     },
     "execution_count": 532,
     "metadata": {},
     "output_type": "execute_result"
    }
   ],
   "source": [
    "set(type_dc[\"float64\"])-set(type_dct[\"float64\"])"
   ]
  },
  {
   "cell_type": "code",
   "execution_count": 533,
   "id": "9aa58f94",
   "metadata": {},
   "outputs": [],
   "source": [
    "df_test[\"auctioneerID1\"] = df_test.auctioneerID.astype(\"float64\")"
   ]
  },
  {
   "cell_type": "code",
   "execution_count": 534,
   "id": "2d33e0c1",
   "metadata": {},
   "outputs": [],
   "source": [
    "df_test.drop(columns=[\"auctioneerID\"], inplace=True)"
   ]
  },
  {
   "cell_type": "code",
   "execution_count": 535,
   "id": "7a3053c9",
   "metadata": {},
   "outputs": [],
   "source": [
    "df_test.rename(columns={'auctioneerID1': 'auctioneerID'}, inplace=True)"
   ]
  },
  {
   "cell_type": "code",
   "execution_count": 536,
   "id": "fb459c2d",
   "metadata": {},
   "outputs": [
    {
     "data": {
      "text/html": [
       "<div>\n",
       "<style scoped>\n",
       "    .dataframe tbody tr th:only-of-type {\n",
       "        vertical-align: middle;\n",
       "    }\n",
       "\n",
       "    .dataframe tbody tr th {\n",
       "        vertical-align: top;\n",
       "    }\n",
       "\n",
       "    .dataframe thead th {\n",
       "        text-align: right;\n",
       "    }\n",
       "</style>\n",
       "<table border=\"1\" class=\"dataframe\">\n",
       "  <thead>\n",
       "    <tr style=\"text-align: right;\">\n",
       "      <th></th>\n",
       "      <th>1408</th>\n",
       "      <th>1023</th>\n",
       "      <th>1728</th>\n",
       "      <th>1167</th>\n",
       "      <th>1594</th>\n",
       "    </tr>\n",
       "  </thead>\n",
       "  <tbody>\n",
       "    <tr>\n",
       "      <th>SalesID</th>\n",
       "      <td>4317459</td>\n",
       "      <td>4249784</td>\n",
       "      <td>4392603</td>\n",
       "      <td>4274831</td>\n",
       "      <td>4362801</td>\n",
       "    </tr>\n",
       "    <tr>\n",
       "      <th>MachineID</th>\n",
       "      <td>2295526</td>\n",
       "      <td>1745722</td>\n",
       "      <td>2283116</td>\n",
       "      <td>2288988</td>\n",
       "      <td>2300591</td>\n",
       "    </tr>\n",
       "    <tr>\n",
       "      <th>ModelID</th>\n",
       "      <td>8132</td>\n",
       "      <td>3178</td>\n",
       "      <td>18111</td>\n",
       "      <td>3783</td>\n",
       "      <td>16490</td>\n",
       "    </tr>\n",
       "    <tr>\n",
       "      <th>datasource</th>\n",
       "      <td>172</td>\n",
       "      <td>172</td>\n",
       "      <td>172</td>\n",
       "      <td>172</td>\n",
       "      <td>172</td>\n",
       "    </tr>\n",
       "    <tr>\n",
       "      <th>YearMade</th>\n",
       "      <td>1998</td>\n",
       "      <td>1995</td>\n",
       "      <td>2004</td>\n",
       "      <td>2001</td>\n",
       "      <td>2006</td>\n",
       "    </tr>\n",
       "    <tr>\n",
       "      <th>...</th>\n",
       "      <td>...</td>\n",
       "      <td>...</td>\n",
       "      <td>...</td>\n",
       "      <td>...</td>\n",
       "      <td>...</td>\n",
       "    </tr>\n",
       "    <tr>\n",
       "      <th>Blade_Type_is_missing</th>\n",
       "      <td>True</td>\n",
       "      <td>True</td>\n",
       "      <td>True</td>\n",
       "      <td>True</td>\n",
       "      <td>True</td>\n",
       "    </tr>\n",
       "    <tr>\n",
       "      <th>Travel_Controls_is_missing</th>\n",
       "      <td>True</td>\n",
       "      <td>True</td>\n",
       "      <td>True</td>\n",
       "      <td>True</td>\n",
       "      <td>True</td>\n",
       "    </tr>\n",
       "    <tr>\n",
       "      <th>Differential_Type_is_missing</th>\n",
       "      <td>True</td>\n",
       "      <td>True</td>\n",
       "      <td>True</td>\n",
       "      <td>False</td>\n",
       "      <td>True</td>\n",
       "    </tr>\n",
       "    <tr>\n",
       "      <th>Steering_Controls_is_missing</th>\n",
       "      <td>True</td>\n",
       "      <td>True</td>\n",
       "      <td>True</td>\n",
       "      <td>False</td>\n",
       "      <td>True</td>\n",
       "    </tr>\n",
       "    <tr>\n",
       "      <th>auctioneerID</th>\n",
       "      <td>1.0</td>\n",
       "      <td>1.0</td>\n",
       "      <td>1.0</td>\n",
       "      <td>1.0</td>\n",
       "      <td>1.0</td>\n",
       "    </tr>\n",
       "  </tbody>\n",
       "</table>\n",
       "<p>101 rows × 5 columns</p>\n",
       "</div>"
      ],
      "text/plain": [
       "                                 1408     1023     1728     1167     1594\n",
       "SalesID                       4317459  4249784  4392603  4274831  4362801\n",
       "MachineID                     2295526  1745722  2283116  2288988  2300591\n",
       "ModelID                          8132     3178    18111     3783    16490\n",
       "datasource                        172      172      172      172      172\n",
       "YearMade                         1998     1995     2004     2001     2006\n",
       "...                               ...      ...      ...      ...      ...\n",
       "Blade_Type_is_missing            True     True     True     True     True\n",
       "Travel_Controls_is_missing       True     True     True     True     True\n",
       "Differential_Type_is_missing     True     True     True    False     True\n",
       "Steering_Controls_is_missing     True     True     True    False     True\n",
       "auctioneerID                      1.0      1.0      1.0      1.0      1.0\n",
       "\n",
       "[101 rows x 5 columns]"
      ]
     },
     "execution_count": 536,
     "metadata": {},
     "output_type": "execute_result"
    }
   ],
   "source": [
    "df_test.head().T"
   ]
  },
  {
   "cell_type": "code",
   "execution_count": 537,
   "id": "b8fbde74",
   "metadata": {},
   "outputs": [],
   "source": [
    "df_test[\"fiModelDescriptor1\"] = df_test.fiModelDescriptor.astype(\"int16\")\n",
    "df_test[\"fiSecondaryDesc\"] = df_test.fiSecondaryDesc.astype(\"int16\")"
   ]
  },
  {
   "cell_type": "code",
   "execution_count": 538,
   "id": "c2032687",
   "metadata": {},
   "outputs": [],
   "source": [
    "df_test.drop(columns=[\"fiModelDescriptor\"], inplace=True)"
   ]
  },
  {
   "cell_type": "code",
   "execution_count": 539,
   "id": "e7e292a6",
   "metadata": {},
   "outputs": [],
   "source": [
    "df_test.rename(columns={'fiModelDescriptor1': 'fiModelDescriptor'}, inplace=True)"
   ]
  },
  {
   "cell_type": "code",
   "execution_count": 540,
   "id": "1f58416c",
   "metadata": {},
   "outputs": [
    {
     "data": {
      "text/plain": [
       "1408      0\n",
       "1023      0\n",
       "1728      0\n",
       "1167      0\n",
       "1594      0\n",
       "         ..\n",
       "9941      0\n",
       "9936      0\n",
       "11620    33\n",
       "9995      0\n",
       "9803      0\n",
       "Name: fiModelDescriptor, Length: 12457, dtype: int16"
      ]
     },
     "execution_count": 540,
     "metadata": {},
     "output_type": "execute_result"
    }
   ],
   "source": [
    "df_test.fiModelDescriptor"
   ]
  },
  {
   "cell_type": "code",
   "execution_count": 541,
   "id": "97942d96",
   "metadata": {},
   "outputs": [
    {
     "data": {
      "text/plain": [
       "bool       45\n",
       "int8       40\n",
       "int64      10\n",
       "int16       4\n",
       "float64     2\n",
       "dtype: int64"
      ]
     },
     "execution_count": 541,
     "metadata": {},
     "output_type": "execute_result"
    }
   ],
   "source": [
    "df_test.dtypes.value_counts()"
   ]
  },
  {
   "cell_type": "code",
   "execution_count": 542,
   "id": "0685fd54",
   "metadata": {},
   "outputs": [
    {
     "data": {
      "text/plain": [
       "bool       45\n",
       "int8       40\n",
       "int64      10\n",
       "int16       4\n",
       "float64     2\n",
       "dtype: int64"
      ]
     },
     "execution_count": 542,
     "metadata": {},
     "output_type": "execute_result"
    }
   ],
   "source": [
    "x_train.dtypes.value_counts()"
   ]
  },
  {
   "cell_type": "code",
   "execution_count": 556,
   "id": "1d6a4f35",
   "metadata": {},
   "outputs": [
    {
     "data": {
      "text/plain": [
       "{'bool': ['MachineHoursCurrentMeter_is_missing',\n",
       "  'UsageBand_is_missing',\n",
       "  'fiModelDesc_is_missing',\n",
       "  'fiBaseModel_is_missing',\n",
       "  'fiSecondaryDesc_is_missing',\n",
       "  'fiModelSeries_is_missing',\n",
       "  'fiModelDescriptor_is_missing',\n",
       "  'ProductSize_is_missing',\n",
       "  'fiProductClassDesc_is_missing',\n",
       "  'state_is_missing',\n",
       "  'ProductGroup_is_missing',\n",
       "  'ProductGroupDesc_is_missing',\n",
       "  'Drive_System_is_missing',\n",
       "  'Enclosure_is_missing',\n",
       "  'Forks_is_missing',\n",
       "  'Pad_Type_is_missing',\n",
       "  'Ride_Control_is_missing',\n",
       "  'Stick_is_missing',\n",
       "  'Transmission_is_missing',\n",
       "  'Turbocharged_is_missing',\n",
       "  'Blade_Extension_is_missing',\n",
       "  'Blade_Width_is_missing',\n",
       "  'Enclosure_Type_is_missing',\n",
       "  'Engine_Horsepower_is_missing',\n",
       "  'Hydraulics_is_missing',\n",
       "  'Pushblock_is_missing',\n",
       "  'Ripper_is_missing',\n",
       "  'Scarifier_is_missing',\n",
       "  'Tip_Control_is_missing',\n",
       "  'Tire_Size_is_missing',\n",
       "  'Coupler_is_missing',\n",
       "  'Coupler_System_is_missing',\n",
       "  'Grouser_Tracks_is_missing',\n",
       "  'Hydraulics_Flow_is_missing',\n",
       "  'Track_Type_is_missing',\n",
       "  'Undercarriage_Pad_Width_is_missing',\n",
       "  'Stick_Length_is_missing',\n",
       "  'Thumb_is_missing',\n",
       "  'Pattern_Changer_is_missing',\n",
       "  'Grouser_Type_is_missing',\n",
       "  'Backhoe_Mounting_is_missing',\n",
       "  'Blade_Type_is_missing',\n",
       "  'Travel_Controls_is_missing',\n",
       "  'Differential_Type_is_missing',\n",
       "  'Steering_Controls_is_missing'],\n",
       " 'int8': ['UsageBand',\n",
       "  'fiModelSeries',\n",
       "  'ProductSize',\n",
       "  'fiProductClassDesc',\n",
       "  'state',\n",
       "  'ProductGroup',\n",
       "  'ProductGroupDesc',\n",
       "  'Drive_System',\n",
       "  'Enclosure',\n",
       "  'Forks',\n",
       "  'Pad_Type',\n",
       "  'Ride_Control',\n",
       "  'Stick',\n",
       "  'Transmission',\n",
       "  'Turbocharged',\n",
       "  'Blade_Extension',\n",
       "  'Blade_Width',\n",
       "  'Enclosure_Type',\n",
       "  'Engine_Horsepower',\n",
       "  'Hydraulics',\n",
       "  'Pushblock',\n",
       "  'Ripper',\n",
       "  'Scarifier',\n",
       "  'Tip_Control',\n",
       "  'Tire_Size',\n",
       "  'Coupler',\n",
       "  'Coupler_System',\n",
       "  'Grouser_Tracks',\n",
       "  'Hydraulics_Flow',\n",
       "  'Track_Type',\n",
       "  'Undercarriage_Pad_Width',\n",
       "  'Stick_Length',\n",
       "  'Thumb',\n",
       "  'Pattern_Changer',\n",
       "  'Grouser_Type',\n",
       "  'Backhoe_Mounting',\n",
       "  'Blade_Type',\n",
       "  'Travel_Controls',\n",
       "  'Differential_Type',\n",
       "  'Steering_Controls'],\n",
       " 'int16': ['fiModelDesc',\n",
       "  'fiBaseModel',\n",
       "  'fiSecondaryDesc',\n",
       "  'fiModelDescriptor'],\n",
       " 'int64': ['SalesID',\n",
       "  'MachineID',\n",
       "  'ModelID',\n",
       "  'datasource',\n",
       "  'YearMade',\n",
       "  'saleYear',\n",
       "  'saleMonth',\n",
       "  'saleDay',\n",
       "  'saleDayofWeek',\n",
       "  'saleDayofYear'],\n",
       " 'float64': ['MachineHoursCurrentMeter', 'auctioneerID']}"
      ]
     },
     "execution_count": 556,
     "metadata": {},
     "output_type": "execute_result"
    }
   ],
   "source": [
    "type_dct = {str(k): list(v) for k, v in df_test.groupby(df_test.dtypes, axis=1)}\n",
    "type_dct"
   ]
  },
  {
   "cell_type": "code",
   "execution_count": 544,
   "id": "aafbc4b8",
   "metadata": {},
   "outputs": [
    {
     "data": {
      "text/plain": [
       "{'bool': ['MachineHoursCurrentMeter_is_missing',\n",
       "  'UsageBand_is_missing',\n",
       "  'fiModelDesc_is_missing',\n",
       "  'fiBaseModel_is_missing',\n",
       "  'fiSecondaryDesc_is_missing',\n",
       "  'fiModelSeries_is_missing',\n",
       "  'fiModelDescriptor_is_missing',\n",
       "  'ProductSize_is_missing',\n",
       "  'fiProductClassDesc_is_missing',\n",
       "  'state_is_missing',\n",
       "  'ProductGroup_is_missing',\n",
       "  'ProductGroupDesc_is_missing',\n",
       "  'Drive_System_is_missing',\n",
       "  'Enclosure_is_missing',\n",
       "  'Forks_is_missing',\n",
       "  'Pad_Type_is_missing',\n",
       "  'Ride_Control_is_missing',\n",
       "  'Stick_is_missing',\n",
       "  'Transmission_is_missing',\n",
       "  'Turbocharged_is_missing',\n",
       "  'Blade_Extension_is_missing',\n",
       "  'Blade_Width_is_missing',\n",
       "  'Enclosure_Type_is_missing',\n",
       "  'Engine_Horsepower_is_missing',\n",
       "  'Hydraulics_is_missing',\n",
       "  'Pushblock_is_missing',\n",
       "  'Ripper_is_missing',\n",
       "  'Scarifier_is_missing',\n",
       "  'Tip_Control_is_missing',\n",
       "  'Tire_Size_is_missing',\n",
       "  'Coupler_is_missing',\n",
       "  'Coupler_System_is_missing',\n",
       "  'Grouser_Tracks_is_missing',\n",
       "  'Hydraulics_Flow_is_missing',\n",
       "  'Track_Type_is_missing',\n",
       "  'Undercarriage_Pad_Width_is_missing',\n",
       "  'Stick_Length_is_missing',\n",
       "  'Thumb_is_missing',\n",
       "  'Pattern_Changer_is_missing',\n",
       "  'Grouser_Type_is_missing',\n",
       "  'Backhoe_Mounting_is_missing',\n",
       "  'Blade_Type_is_missing',\n",
       "  'Travel_Controls_is_missing',\n",
       "  'Differential_Type_is_missing',\n",
       "  'Steering_Controls_is_missing'],\n",
       " 'int8': ['UsageBand',\n",
       "  'fiModelSeries',\n",
       "  'ProductSize',\n",
       "  'fiProductClassDesc',\n",
       "  'state',\n",
       "  'ProductGroup',\n",
       "  'ProductGroupDesc',\n",
       "  'Drive_System',\n",
       "  'Enclosure',\n",
       "  'Forks',\n",
       "  'Pad_Type',\n",
       "  'Ride_Control',\n",
       "  'Stick',\n",
       "  'Transmission',\n",
       "  'Turbocharged',\n",
       "  'Blade_Extension',\n",
       "  'Blade_Width',\n",
       "  'Enclosure_Type',\n",
       "  'Engine_Horsepower',\n",
       "  'Hydraulics',\n",
       "  'Pushblock',\n",
       "  'Ripper',\n",
       "  'Scarifier',\n",
       "  'Tip_Control',\n",
       "  'Tire_Size',\n",
       "  'Coupler',\n",
       "  'Coupler_System',\n",
       "  'Grouser_Tracks',\n",
       "  'Hydraulics_Flow',\n",
       "  'Track_Type',\n",
       "  'Undercarriage_Pad_Width',\n",
       "  'Stick_Length',\n",
       "  'Thumb',\n",
       "  'Pattern_Changer',\n",
       "  'Grouser_Type',\n",
       "  'Backhoe_Mounting',\n",
       "  'Blade_Type',\n",
       "  'Travel_Controls',\n",
       "  'Differential_Type',\n",
       "  'Steering_Controls'],\n",
       " 'int16': ['fiModelDesc',\n",
       "  'fiBaseModel',\n",
       "  'fiSecondaryDesc',\n",
       "  'fiModelDescriptor'],\n",
       " 'int64': ['SalesID',\n",
       "  'MachineID',\n",
       "  'ModelID',\n",
       "  'datasource',\n",
       "  'YearMade',\n",
       "  'saleYear',\n",
       "  'saleMonth',\n",
       "  'saleDay',\n",
       "  'saleDayofWeek',\n",
       "  'saleDayofYear'],\n",
       " 'float64': ['auctioneerID', 'MachineHoursCurrentMeter']}"
      ]
     },
     "execution_count": 544,
     "metadata": {},
     "output_type": "execute_result"
    }
   ],
   "source": [
    "type_dc = {str(k): list(v) for k, v in x_train.groupby(x_train.dtypes, axis=1)}\n",
    "type_dc"
   ]
  },
  {
   "cell_type": "code",
   "execution_count": 545,
   "id": "cf96f585",
   "metadata": {},
   "outputs": [
    {
     "data": {
      "text/plain": [
       "set()"
      ]
     },
     "execution_count": 545,
     "metadata": {},
     "output_type": "execute_result"
    }
   ],
   "source": [
    "set(type_dct[\"int8\"])-set(type_dc[\"int8\"])"
   ]
  },
  {
   "cell_type": "code",
   "execution_count": 553,
   "id": "9c30d817",
   "metadata": {},
   "outputs": [],
   "source": [
    "df_test.rename(columns={'saleDayOfWeek': 'saleDayofWeek','saleDayOfYear': 'saleDayofYear'}, inplace=True)"
   ]
  },
  {
   "cell_type": "code",
   "execution_count": 558,
   "id": "1e7e854a",
   "metadata": {},
   "outputs": [],
   "source": [
    "df_test = df_test[x_train.columns]"
   ]
  },
  {
   "cell_type": "code",
   "execution_count": 559,
   "id": "79e2e673",
   "metadata": {},
   "outputs": [],
   "source": [
    "# Make predictions on the test data\n",
    "test_preds = ideal_model.predict(df_test)"
   ]
  },
  {
   "cell_type": "code",
   "execution_count": 560,
   "id": "501553ae",
   "metadata": {},
   "outputs": [
    {
     "data": {
      "text/plain": [
       "array([10495.42795912, 19849.55145192, 21721.93873256, ...,\n",
       "       49248.02043635, 41363.04632589, 35733.65111063])"
      ]
     },
     "execution_count": 560,
     "metadata": {},
     "output_type": "execute_result"
    }
   ],
   "source": [
    "test_preds"
   ]
  },
  {
   "cell_type": "code",
   "execution_count": 561,
   "id": "e333495c",
   "metadata": {},
   "outputs": [
    {
     "data": {
      "text/html": [
       "<div>\n",
       "<style scoped>\n",
       "    .dataframe tbody tr th:only-of-type {\n",
       "        vertical-align: middle;\n",
       "    }\n",
       "\n",
       "    .dataframe tbody tr th {\n",
       "        vertical-align: top;\n",
       "    }\n",
       "\n",
       "    .dataframe thead th {\n",
       "        text-align: right;\n",
       "    }\n",
       "</style>\n",
       "<table border=\"1\" class=\"dataframe\">\n",
       "  <thead>\n",
       "    <tr style=\"text-align: right;\">\n",
       "      <th></th>\n",
       "      <th>SalesID</th>\n",
       "      <th>SalesPrice</th>\n",
       "    </tr>\n",
       "  </thead>\n",
       "  <tbody>\n",
       "    <tr>\n",
       "      <th>1408</th>\n",
       "      <td>4317459</td>\n",
       "      <td>10495.427959</td>\n",
       "    </tr>\n",
       "    <tr>\n",
       "      <th>1023</th>\n",
       "      <td>4249784</td>\n",
       "      <td>19849.551452</td>\n",
       "    </tr>\n",
       "    <tr>\n",
       "      <th>1728</th>\n",
       "      <td>4392603</td>\n",
       "      <td>21721.938733</td>\n",
       "    </tr>\n",
       "    <tr>\n",
       "      <th>1167</th>\n",
       "      <td>4274831</td>\n",
       "      <td>32217.982295</td>\n",
       "    </tr>\n",
       "    <tr>\n",
       "      <th>1594</th>\n",
       "      <td>4362801</td>\n",
       "      <td>14925.892723</td>\n",
       "    </tr>\n",
       "    <tr>\n",
       "      <th>...</th>\n",
       "      <td>...</td>\n",
       "      <td>...</td>\n",
       "    </tr>\n",
       "    <tr>\n",
       "      <th>9941</th>\n",
       "      <td>6620191</td>\n",
       "      <td>11116.753171</td>\n",
       "    </tr>\n",
       "    <tr>\n",
       "      <th>9936</th>\n",
       "      <td>6620142</td>\n",
       "      <td>12253.246603</td>\n",
       "    </tr>\n",
       "    <tr>\n",
       "      <th>11620</th>\n",
       "      <td>6635116</td>\n",
       "      <td>49248.020436</td>\n",
       "    </tr>\n",
       "    <tr>\n",
       "      <th>9995</th>\n",
       "      <td>6621460</td>\n",
       "      <td>41363.046326</td>\n",
       "    </tr>\n",
       "    <tr>\n",
       "      <th>9803</th>\n",
       "      <td>6469532</td>\n",
       "      <td>35733.651111</td>\n",
       "    </tr>\n",
       "  </tbody>\n",
       "</table>\n",
       "<p>12457 rows × 2 columns</p>\n",
       "</div>"
      ],
      "text/plain": [
       "       SalesID    SalesPrice\n",
       "1408   4317459  10495.427959\n",
       "1023   4249784  19849.551452\n",
       "1728   4392603  21721.938733\n",
       "1167   4274831  32217.982295\n",
       "1594   4362801  14925.892723\n",
       "...        ...           ...\n",
       "9941   6620191  11116.753171\n",
       "9936   6620142  12253.246603\n",
       "11620  6635116  49248.020436\n",
       "9995   6621460  41363.046326\n",
       "9803   6469532  35733.651111\n",
       "\n",
       "[12457 rows x 2 columns]"
      ]
     },
     "execution_count": 561,
     "metadata": {},
     "output_type": "execute_result"
    }
   ],
   "source": [
    "# Format predictions into the same format Kaggle is after\n",
    "df_preds = pd.DataFrame()\n",
    "df_preds[\"SalesID\"] = df_test[\"SalesID\"]\n",
    "df_preds[\"SalesPrice\"] = test_preds\n",
    "df_preds"
   ]
  },
  {
   "cell_type": "code",
   "execution_count": 562,
   "id": "d96efa5f",
   "metadata": {},
   "outputs": [],
   "source": [
    "df_preds.to_csv(\"data/bluebook-for-bulldozers/test_predictions.csv\", index=False)"
   ]
  },
  {
   "cell_type": "markdown",
   "id": "8f3c0bf5",
   "metadata": {},
   "source": [
    "## Feature Importance"
   ]
  },
  {
   "cell_type": "code",
   "execution_count": 563,
   "id": "b4013c8e",
   "metadata": {},
   "outputs": [
    {
     "data": {
      "text/plain": [
       "array([2.53644842e-02, 2.56542808e-02, 4.50603654e-02, 1.33645406e-03,\n",
       "       1.57761349e-03, 2.00488839e-01, 1.27245510e-03, 5.01037067e-04,\n",
       "       3.82191460e-02, 2.41754697e-02, 6.96229404e-02, 3.45340331e-03,\n",
       "       2.54810750e-02, 1.59118624e-01, 4.47761009e-02, 2.77483148e-03,\n",
       "       3.61412152e-03, 5.47800552e-03, 3.21394327e-03, 9.30322592e-02,\n",
       "       2.28026803e-04, 1.78128710e-04, 9.85740315e-04, 6.11487817e-04,\n",
       "       1.01907995e-03, 6.88769272e-05, 2.43573831e-03, 1.68828659e-02,\n",
       "       1.17390844e-03, 2.93095611e-03, 2.26195148e-03, 1.94852973e-03,\n",
       "       6.72721540e-03, 2.13450956e-04, 3.36499212e-03, 1.96024292e-02,\n",
       "       1.07673732e-03, 1.60894500e-02, 2.69374419e-03, 1.36773775e-03,\n",
       "       2.17543038e-03, 8.49817874e-04, 8.21057111e-04, 7.82973893e-04,\n",
       "       4.05468272e-04, 2.26815758e-04, 4.06428987e-04, 4.02452920e-03,\n",
       "       4.65760032e-04, 2.00107427e-04, 5.22585416e-04, 4.80115703e-02,\n",
       "       1.68566332e-03, 2.40459286e-03, 1.15159336e-03, 4.41565615e-03,\n",
       "       1.32238881e-03, 3.44801554e-04, 0.00000000e+00, 0.00000000e+00,\n",
       "       2.16709500e-03, 7.67183101e-04, 1.10759833e-02, 2.10464054e-02,\n",
       "       0.00000000e+00, 0.00000000e+00, 0.00000000e+00, 0.00000000e+00,\n",
       "       6.14915598e-05, 0.00000000e+00, 4.51443040e-04, 2.23461765e-04,\n",
       "       5.17237879e-04, 7.63223452e-05, 2.74926349e-04, 1.22584520e-05,\n",
       "       5.15691259e-06, 3.58714202e-04, 0.00000000e+00, 3.99569086e-03,\n",
       "       2.45428914e-03, 4.79958059e-05, 7.07050671e-04, 8.57309505e-05,\n",
       "       1.90337989e-03, 3.02430551e-03, 3.41860060e-04, 1.32371071e-02,\n",
       "       5.21172455e-03, 4.09175369e-03, 6.44572583e-05, 1.88286866e-04,\n",
       "       5.95192169e-06, 1.00094555e-05, 0.00000000e+00, 1.62239210e-04,\n",
       "       5.00728109e-04, 3.86795710e-04, 1.95276141e-05, 2.05821542e-04,\n",
       "       2.38768347e-05])"
      ]
     },
     "execution_count": 563,
     "metadata": {},
     "output_type": "execute_result"
    }
   ],
   "source": [
    "# Find feature importance of our best model\n",
    "ideal_model.feature_importances_"
   ]
  },
  {
   "cell_type": "code",
   "execution_count": 565,
   "id": "6e39b966",
   "metadata": {},
   "outputs": [],
   "source": [
    "# Helper function for plotting feature importance\n",
    "def plot_features(columns, importances, n=20):\n",
    "    df = (pd.DataFrame({\"features\": columns,\n",
    "                        \"feature_importances\": importances})\n",
    "          .sort_values(\"feature_importances\", ascending=False)\n",
    "          .reset_index(drop=True))\n",
    "    \n",
    "    # Plot the dataframe\n",
    "    fig, ax = plt.subplots()\n",
    "    ax.barh(df[\"features\"][:n], df[\"feature_importances\"][:20])\n",
    "    ax.set_ylabel(\"Features\")\n",
    "    ax.set_xlabel(\"Feature importance\")\n",
    "    ax.invert_yaxis()"
   ]
  },
  {
   "cell_type": "code",
   "execution_count": 567,
   "id": "0bc746f1",
   "metadata": {},
   "outputs": [
    {
     "data": {
      "image/png": "[encoded data removed]",
      "text/plain": [
       "<Figure size 640x480 with 1 Axes>"
      ]
     },
     "metadata": {},
     "output_type": "display_data"
    }
   ],
   "source": [
    "plot_features(x_train.columns, ideal_model.feature_importances_)"
   ]
  },
  {
   "cell_type": "code",
   "execution_count": 568,
   "id": "e94a7ea7",
   "metadata": {},
   "outputs": [
    {
     "data": {
      "text/plain": [
       "1000    38185\n",
       "1998    21221\n",
       "2005    20587\n",
       "2004    20020\n",
       "1997    18905\n",
       "        ...  \n",
       "1937        1\n",
       "1949        1\n",
       "1947        1\n",
       "2012        1\n",
       "2013        1\n",
       "Name: YearMade, Length: 72, dtype: int64"
      ]
     },
     "execution_count": 568,
     "metadata": {},
     "output_type": "execute_result"
    }
   ],
   "source": [
    "df[\"YearMade\"].value_counts()"
   ]
  }
 ],
 "metadata": {
  "kernelspec": {
   "display_name": "Python 3 (ipykernel)",
   "language": "python",
   "name": "python3"
  },
  "language_info": {
   "codemirror_mode": {
    "name": "ipython",
    "version": 3
   },
   "file_extension": ".py",
   "mimetype": "text/x-python",
   "name": "python",
   "nbconvert_exporter": "python",
   "pygments_lexer": "ipython3",
   "version": "3.10.12"
  }
 },
 "nbformat": 4,
 "nbformat_minor": 5
}
